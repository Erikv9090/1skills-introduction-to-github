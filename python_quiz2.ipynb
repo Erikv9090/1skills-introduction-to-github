{
  "cells": [
    {
      "cell_type": "markdown",
      "metadata": {
        "id": "Y7LbGkJgPwQI"
      },
      "source": [
        "The content of the following cell install the pywars client into this notebook. It must be executed once during the lifetime of a notebooks execution.  If you save and reopen the notebook you will need to execute again, but otherwise you only need to run it once."
      ]
    },
    {
      "cell_type": "code",
      "execution_count": null,
      "metadata": {
        "id": "WCYPuBQal45D",
        "outputId": "3af134c2-dc4b-47c9-d5eb-33277236288f",
        "colab": {
          "base_uri": "https://localhost:8080/"
        }
      },
      "outputs": [
        {
          "output_type": "stream",
          "name": "stdout",
          "text": [
            "Cloning into 'pyWars'...\n",
            "remote: Enumerating objects: 193, done.\u001b[K\n",
            "remote: Counting objects: 100% (16/16), done.\u001b[K\n",
            "remote: Compressing objects: 100% (13/13), done.\u001b[K\n",
            "remote: Total 193 (delta 5), reused 11 (delta 3), pack-reused 177 (from 1)\u001b[K\n",
            "Receiving objects: 100% (193/193), 38.43 KiB | 1.24 MiB/s, done.\n",
            "Resolving deltas: 100% (106/106), done.\n",
            "Processing ./pyWars\n",
            "  Installing build dependencies ... \u001b[?25l\u001b[?25hdone\n",
            "  Getting requirements to build wheel ... \u001b[?25l\u001b[?25hdone\n",
            "  Preparing metadata (pyproject.toml) ... \u001b[?25l\u001b[?25hdone\n",
            "Requirement already satisfied: requests>=2.20.0 in /usr/local/lib/python3.11/dist-packages (from pywars==5.0.4) (2.32.3)\n",
            "Requirement already satisfied: rich>=9.1.0 in /usr/local/lib/python3.11/dist-packages (from pywars==5.0.4) (13.9.4)\n",
            "Requirement already satisfied: charset-normalizer<4,>=2 in /usr/local/lib/python3.11/dist-packages (from requests>=2.20.0->pywars==5.0.4) (3.4.1)\n",
            "Requirement already satisfied: idna<4,>=2.5 in /usr/local/lib/python3.11/dist-packages (from requests>=2.20.0->pywars==5.0.4) (3.10)\n",
            "Requirement already satisfied: urllib3<3,>=1.21.1 in /usr/local/lib/python3.11/dist-packages (from requests>=2.20.0->pywars==5.0.4) (2.4.0)\n",
            "Requirement already satisfied: certifi>=2017.4.17 in /usr/local/lib/python3.11/dist-packages (from requests>=2.20.0->pywars==5.0.4) (2025.4.26)\n",
            "Requirement already satisfied: markdown-it-py>=2.2.0 in /usr/local/lib/python3.11/dist-packages (from rich>=9.1.0->pywars==5.0.4) (3.0.0)\n",
            "Requirement already satisfied: pygments<3.0.0,>=2.13.0 in /usr/local/lib/python3.11/dist-packages (from rich>=9.1.0->pywars==5.0.4) (2.19.1)\n",
            "Requirement already satisfied: mdurl~=0.1 in /usr/local/lib/python3.11/dist-packages (from markdown-it-py>=2.2.0->rich>=9.1.0->pywars==5.0.4) (0.1.2)\n",
            "Building wheels for collected packages: pywars\n",
            "  Building wheel for pywars (pyproject.toml) ... \u001b[?25l\u001b[?25hdone\n",
            "  Created wheel for pywars: filename=pywars-5.0.4-py3-none-any.whl size=8830 sha256=5dbe378a029983409358606df71c4828816da1f1fe6524e6f2c7b9d4e08f93e1\n",
            "  Stored in directory: /tmp/pip-ephem-wheel-cache-9emzwimu/wheels/1d/b2/95/bdbe4d66eb3f70d727bb299b9e9ffb5c30d14286d8eba68ce2\n",
            "Successfully built pywars\n"
          ]
        }
      ],
      "source": [
        "#Import and/or install the pywars client\n",
        "!git clone --branch version5 https://github.com/markbaggett/pyWars\n",
        "!pip install ./pyWars\n",
        "\n",
        "#Mount the google drive in colab\n",
        "from google.colab import drive\n",
        "drive.mount('/content/drive')\n"
      ]
    },
    {
      "cell_type": "markdown",
      "metadata": {
        "id": "V9zGApf2QOZD"
      },
      "source": [
        "This next command must be run once to configure your pyWars server and to login.  Be sure to put your username and password in the .login() function.  Before running this you must change the contents of the three variables below to reflect your account information provided by SANS.\n"
      ]
    },
    {
      "cell_type": "code",
      "execution_count": null,
      "metadata": {
        "id": "zeiJWbS0N5Ih"
      },
      "outputs": [],
      "source": [
        "#Set the following three variables and execute this cell\n",
        "HOSTNAME = \"Host Name Here\"\n",
        "USERNAME = \"your login here\"\n",
        "PASSWORD = \"your password here\"\n",
        "\n",
        "#This will create your pywars client object and store in the variable d\n",
        "import pywars\n",
        "d = pywars.Client(f\"https://{HOSTNAME}:10000\")\n",
        "d.file_location=\"/content/drive/MyDrive\"\n",
        "d.login(USERNAME,PASSWORD)\n"
      ]
    },
    {
      "cell_type": "markdown",
      "metadata": {
        "id": "qh17QkU1e9rW"
      },
      "source": [
        "In this lab you will complete all of the labs that have \"quiz2\" in the name.  The next cell uses a for loop to print just those with \"quiz2\" in the name. Run it to see a list of all of the challenge you must complete."
      ]
    },
    {
      "cell_type": "code",
      "execution_count": null,
      "metadata": {
        "id": "Iea43FE9Q8BN"
      },
      "outputs": [],
      "source": [
        "for each_name in d.names:\n",
        "    if each_name.startswith(\"quiz2\"):\n",
        "        print(f\"You must complete {each_name}\")"
      ]
    },
    {
      "cell_type": "markdown",
      "metadata": {
        "id": "dZJ5YkVSe9rX"
      },
      "source": [
        "# **WARNING**\n",
        "## These are quiz questions. You can only submit `.answer()` once per question. Read the question carefully. Your ability to follow instructions and use Python to submit answers is part of the grade. If you accidentally submit an incorrect answer, it is wrong."
      ]
    },
    {
      "cell_type": "code",
      "execution_count": null,
      "metadata": {
        "id": "JlOtXN3LONEy"
      },
      "outputs": [],
      "source": [
        "#Ask for the question and data together to avoid confusion.\n",
        "qname = \"quiz???\"\n",
        "d.question(qname)\n",
        "print(d.data(qname))"
      ]
    },
    {
      "cell_type": "markdown",
      "metadata": {
        "id": "qeP4_Z-Pe9rX"
      },
      "source": [
        "Carefully consider your answer. Remember, you get one attempt per question. When you are ready submit your answer.\n",
        "\n",
        "Note: the next cell is commented out so that you do not accidentally run it.  "
      ]
    },
    {
      "cell_type": "code",
      "execution_count": null,
      "metadata": {
        "id": "FurrNO5se9rX"
      },
      "outputs": [],
      "source": [
        "#d.answer( your answer here )"
      ]
    }
  ],
  "metadata": {
    "colab": {
      "provenance": []
    },
    "kernelspec": {
      "display_name": "Python 3",
      "name": "python3"
    },
    "language_info": {
      "name": "python"
    }
  },
  "nbformat": 4,
  "nbformat_minor": 0
}
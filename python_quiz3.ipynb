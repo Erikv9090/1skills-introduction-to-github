{
  "cells": [
    {
      "cell_type": "markdown",
      "metadata": {
        "id": "Y7LbGkJgPwQI"
      },
      "source": [
        "The content of the following cell install the pywars client into this notebook. It must be executed once during the lifetime of a notebooks execution.  If you save and reopen the notebook you will need to execute again, but otherwise you only need to run it once."
      ]
    },
    {
      "cell_type": "code",
      "execution_count": 1,
      "metadata": {
        "id": "WCYPuBQal45D",
        "outputId": "a20a462f-9071-4299-9c52-180c178cffcc",
        "colab": {
          "base_uri": "https://localhost:8080/"
        }
      },
      "outputs": [
        {
          "output_type": "stream",
          "name": "stdout",
          "text": [
            "Cloning into 'pyWars'...\n",
            "remote: Enumerating objects: 193, done.\u001b[K\n",
            "remote: Counting objects: 100% (16/16), done.\u001b[K\n",
            "remote: Compressing objects: 100% (13/13), done.\u001b[K\n",
            "remote: Total 193 (delta 5), reused 11 (delta 3), pack-reused 177 (from 1)\u001b[K\n",
            "Receiving objects: 100% (193/193), 38.43 KiB | 1.37 MiB/s, done.\n",
            "Resolving deltas: 100% (106/106), done.\n",
            "Processing ./pyWars\n",
            "  Installing build dependencies ... \u001b[?25l\u001b[?25hdone\n",
            "  Getting requirements to build wheel ... \u001b[?25l\u001b[?25hdone\n",
            "  Preparing metadata (pyproject.toml) ... \u001b[?25l\u001b[?25hdone\n",
            "Requirement already satisfied: requests>=2.20.0 in /usr/local/lib/python3.11/dist-packages (from pywars==5.0.4) (2.32.3)\n",
            "Requirement already satisfied: rich>=9.1.0 in /usr/local/lib/python3.11/dist-packages (from pywars==5.0.4) (13.9.4)\n",
            "Requirement already satisfied: charset-normalizer<4,>=2 in /usr/local/lib/python3.11/dist-packages (from requests>=2.20.0->pywars==5.0.4) (3.4.2)\n",
            "Requirement already satisfied: idna<4,>=2.5 in /usr/local/lib/python3.11/dist-packages (from requests>=2.20.0->pywars==5.0.4) (3.10)\n",
            "Requirement already satisfied: urllib3<3,>=1.21.1 in /usr/local/lib/python3.11/dist-packages (from requests>=2.20.0->pywars==5.0.4) (2.4.0)\n",
            "Requirement already satisfied: certifi>=2017.4.17 in /usr/local/lib/python3.11/dist-packages (from requests>=2.20.0->pywars==5.0.4) (2025.4.26)\n",
            "Requirement already satisfied: markdown-it-py>=2.2.0 in /usr/local/lib/python3.11/dist-packages (from rich>=9.1.0->pywars==5.0.4) (3.0.0)\n",
            "Requirement already satisfied: pygments<3.0.0,>=2.13.0 in /usr/local/lib/python3.11/dist-packages (from rich>=9.1.0->pywars==5.0.4) (2.19.1)\n",
            "Requirement already satisfied: mdurl~=0.1 in /usr/local/lib/python3.11/dist-packages (from markdown-it-py>=2.2.0->rich>=9.1.0->pywars==5.0.4) (0.1.2)\n",
            "Building wheels for collected packages: pywars\n",
            "  Building wheel for pywars (pyproject.toml) ... \u001b[?25l\u001b[?25hdone\n",
            "  Created wheel for pywars: filename=pywars-5.0.4-py3-none-any.whl size=8831 sha256=49992f31e0e942192b78905782f57a88c7ad9b6b22958835ef4d0130fbe4c4d4\n",
            "  Stored in directory: /tmp/pip-ephem-wheel-cache-bfnmo4cc/wheels/1d/b2/95/bdbe4d66eb3f70d727bb299b9e9ffb5c30d14286d8eba68ce2\n",
            "Successfully built pywars\n",
            "Installing collected packages: pywars\n",
            "Successfully installed pywars-5.0.4\n",
            "Mounted at /content/drive\n"
          ]
        }
      ],
      "source": [
        "#Import and/or install the pywars client\n",
        "!git clone --branch version5 https://github.com/markbaggett/pyWars\n",
        "!pip install ./pyWars\n",
        "\n",
        "#Mount the google drive in colab\n",
        "from google.colab import drive\n",
        "drive.mount('/content/drive')\n"
      ]
    },
    {
      "cell_type": "markdown",
      "metadata": {
        "id": "V9zGApf2QOZD"
      },
      "source": [
        "This next command must be run once to configure your pyWars server and to login.  Be sure to put your username and password in the .login() function.  Before running this you must change the contents of the three variables below to reflect your account information provided by SANS.\n"
      ]
    },
    {
      "cell_type": "code",
      "execution_count": 2,
      "metadata": {
        "id": "zeiJWbS0N5Ih",
        "outputId": "d33e8116-d0be-4a49-f3d3-c361e98a74a0",
        "colab": {
          "base_uri": "https://localhost:8080/",
          "height": 36
        }
      },
      "outputs": [
        {
          "output_type": "execute_result",
          "data": {
            "text/plain": [
              "'Login Success'"
            ],
            "application/vnd.google.colaboratory.intrinsic+json": {
              "type": "string"
            }
          },
          "metadata": {},
          "execution_count": 2
        }
      ],
      "source": [
        "#Set the following three variables and execute this cell\n",
        "HOSTNAME = 'python.sans.edu'\n",
        "USERNAME = 'pywars_login_8368'\n",
        "PASSWORD = 'AzC75SHcp3qLXhqhOLIO'\n",
        "\n",
        "#This will create your pywars client object and store in the variable d\n",
        "import pywars\n",
        "d = pywars.Client(f\"https://{HOSTNAME}:10000\")\n",
        "d.file_location=\"/content/drive/MyDrive\"\n",
        "d.login(USERNAME,PASSWORD)\n"
      ]
    },
    {
      "cell_type": "markdown",
      "metadata": {
        "id": "sCnMdjLKuz5j"
      },
      "source": [
        "In this lab you will complete all of the labs that have \"quiz3\" in the name.  The next cell uses a for loop to print just those with \"quiz3\" in the name. Run it to see a list of all of the challenge you must complete."
      ]
    },
    {
      "cell_type": "code",
      "execution_count": 3,
      "metadata": {
        "id": "Iea43FE9Q8BN",
        "outputId": "014f0cd4-76f0-4fd6-929a-1b48200a8aba",
        "colab": {
          "base_uri": "https://localhost:8080/"
        }
      },
      "outputs": [
        {
          "output_type": "stream",
          "name": "stdout",
          "text": [
            "You must complete quiz3.00\n",
            "You must complete quiz3.01\n",
            "You must complete quiz3.02\n",
            "You must complete quiz3.03\n",
            "You must complete quiz3.04\n",
            "You must complete quiz3.05\n",
            "You must complete quiz3.06\n",
            "You must complete quiz3.07\n",
            "You must complete quiz3.08\n",
            "You must complete quiz3.09\n"
          ]
        }
      ],
      "source": [
        "for each_name in d.names:\n",
        "    if each_name.startswith(\"quiz3\"):\n",
        "        print(f\"You must complete {each_name}\")"
      ]
    },
    {
      "cell_type": "markdown",
      "metadata": {
        "id": "nbKZ2EsZuz5j"
      },
      "source": [
        "# **WARNING**\n",
        "## These are quiz questions. You can only submit `.answer()` once per question. Read the question carefully. Your ability to follow instructions and use Python to submit answers is part of the grade. If you accidentally submit an incorrect answer, it is wrong."
      ]
    },
    {
      "cell_type": "code",
      "source": [
        "#Ask for the question and data together to avoid confusion.\n",
        "qname = \"quiz3.00\"\n",
        "d.question(qname)\n",
        "print(d.data(qname))"
      ],
      "metadata": {
        "id": "t4Vo8ycAzGKj",
        "outputId": "0cf5d6e2-7d99-424f-beed-e597eeea48cb",
        "colab": {
          "base_uri": "https://localhost:8080/",
          "height": 282
        }
      },
      "execution_count": 7,
      "outputs": [
        {
          "output_type": "display_data",
          "data": {
            "text/plain": [
              "┏━━━━┳━━━━━━━━━━┳━━━━━━━━┳━━━━━━━━━━━┳━━━━━━━━━━┳━━━━━━━━━━━━━━━┓\n",
              "┃\u001b[1m \u001b[0m\u001b[1m# \u001b[0m\u001b[1m \u001b[0m┃\u001b[1m \u001b[0m\u001b[1mQuestion\u001b[0m\u001b[1m \u001b[0m┃\u001b[1m \u001b[0m\u001b[1mPoints\u001b[0m\u001b[1m \u001b[0m┃\u001b[1m \u001b[0m\u001b[1mTimeout  \u001b[0m\u001b[1m \u001b[0m┃\u001b[1m \u001b[0m\u001b[1mAttempts\u001b[0m\u001b[1m \u001b[0m┃\u001b[1m \u001b[0m\u001b[1mPrerequisites\u001b[0m\u001b[1m \u001b[0m┃\n",
              "┡━━━━╇━━━━━━━━━━╇━━━━━━━━╇━━━━━━━━━━━╇━━━━━━━━━━╇━━━━━━━━━━━━━━━┩\n",
              "│ 84 │ quiz3.00 │ 1      │ Not Timed │ 1        │ NONE          │\n",
              "└────┴──────────┴────────┴───────────┴──────────┴───────────────┘\n"
            ],
            "text/html": [
              "<pre style=\"white-space:pre;overflow-x:auto;line-height:normal;font-family:Menlo,'DejaVu Sans Mono',consolas,'Courier New',monospace\">┏━━━━┳━━━━━━━━━━┳━━━━━━━━┳━━━━━━━━━━━┳━━━━━━━━━━┳━━━━━━━━━━━━━━━┓\n",
              "┃<span style=\"font-weight: bold\"> #  </span>┃<span style=\"font-weight: bold\"> Question </span>┃<span style=\"font-weight: bold\"> Points </span>┃<span style=\"font-weight: bold\"> Timeout   </span>┃<span style=\"font-weight: bold\"> Attempts </span>┃<span style=\"font-weight: bold\"> Prerequisites </span>┃\n",
              "┡━━━━╇━━━━━━━━━━╇━━━━━━━━╇━━━━━━━━━━━╇━━━━━━━━━━╇━━━━━━━━━━━━━━━┩\n",
              "│ 84 │ quiz3.00 │ 1      │ Not Timed │ 1        │ NONE          │\n",
              "└────┴──────────┴────────┴───────────┴──────────┴───────────────┘\n",
              "</pre>\n"
            ]
          },
          "metadata": {}
        },
        {
          "output_type": "display_data",
          "data": {
            "text/plain": [
              "TEXT:\n",
              "A python code block begins with a colon and is followed by a block of intended code. What determines how many \n",
              "spaces must be used to indent the code?\n",
              "\n",
              "Enter \u001b[32m\"print\u001b[0m\u001b[32m(\u001b[0m\u001b[32md.data\u001b[0m\u001b[32m(\u001b[0m\u001b[32m'Quiz3.00'\u001b[0m\u001b[32m)\u001b[0m\u001b[32m)\u001b[0m\u001b[32m\"\u001b[0m to view the choices. Submit the integer next to the correct choice. For example: \n",
              "\u001b[32m'd.answer\u001b[0m\u001b[32m(\u001b[0m\u001b[32m1\u001b[0m\u001b[32m)\u001b[0m\u001b[32m'\u001b[0m\n"
            ],
            "text/html": [
              "<pre style=\"white-space:pre;overflow-x:auto;line-height:normal;font-family:Menlo,'DejaVu Sans Mono',consolas,'Courier New',monospace\">TEXT:\n",
              "A python code block begins with a colon and is followed by a block of intended code. What determines how many \n",
              "spaces must be used to indent the code?\n",
              "\n",
              "Enter <span style=\"color: #008000; text-decoration-color: #008000\">\"print(d.data('Quiz3.00'))\"</span> to view the choices. Submit the integer next to the correct choice. For example: \n",
              "<span style=\"color: #008000; text-decoration-color: #008000\">'d.answer(1)'</span>\n",
              "</pre>\n"
            ]
          },
          "metadata": {}
        },
        {
          "output_type": "stream",
          "name": "stdout",
          "text": [
            "0) All lines must match the first line\n",
            "1) It must always be 2 spaces\n",
            "2) It must always be 4 spaces\n",
            "3) It must always be 8 spaces\n"
          ]
        }
      ]
    },
    {
      "cell_type": "code",
      "source": [
        "d.answer(0)"
      ],
      "metadata": {
        "id": "SKBBsNJNzplq",
        "outputId": "eff274a3-ee48-4205-f593-e142fb47dfc6",
        "colab": {
          "base_uri": "https://localhost:8080/",
          "height": 36
        }
      },
      "execution_count": 8,
      "outputs": [
        {
          "output_type": "execute_result",
          "data": {
            "text/plain": [
              "'Correct!'"
            ],
            "application/vnd.google.colaboratory.intrinsic+json": {
              "type": "string"
            }
          },
          "metadata": {},
          "execution_count": 8
        }
      ]
    },
    {
      "cell_type": "code",
      "source": [
        "qname = \"quiz3.01\"\n",
        "d.question(qname)\n",
        "print(d.data(qname))"
      ],
      "metadata": {
        "id": "jrVH0AOj0n9f",
        "outputId": "75aefdf4-4742-48c0-805b-d3fa6c6a3064",
        "colab": {
          "base_uri": "https://localhost:8080/",
          "height": 414
        }
      },
      "execution_count": 9,
      "outputs": [
        {
          "output_type": "display_data",
          "data": {
            "text/plain": [
              "┏━━━━┳━━━━━━━━━━┳━━━━━━━━┳━━━━━━━━━━━┳━━━━━━━━━━┳━━━━━━━━━━━━━━━┓\n",
              "┃\u001b[1m \u001b[0m\u001b[1m# \u001b[0m\u001b[1m \u001b[0m┃\u001b[1m \u001b[0m\u001b[1mQuestion\u001b[0m\u001b[1m \u001b[0m┃\u001b[1m \u001b[0m\u001b[1mPoints\u001b[0m\u001b[1m \u001b[0m┃\u001b[1m \u001b[0m\u001b[1mTimeout  \u001b[0m\u001b[1m \u001b[0m┃\u001b[1m \u001b[0m\u001b[1mAttempts\u001b[0m\u001b[1m \u001b[0m┃\u001b[1m \u001b[0m\u001b[1mPrerequisites\u001b[0m\u001b[1m \u001b[0m┃\n",
              "┡━━━━╇━━━━━━━━━━╇━━━━━━━━╇━━━━━━━━━━━╇━━━━━━━━━━╇━━━━━━━━━━━━━━━┩\n",
              "│ 85 │ quiz3.01 │ 1      │ Not Timed │ 1        │ NONE          │\n",
              "└────┴──────────┴────────┴───────────┴──────────┴───────────────┘\n"
            ],
            "text/html": [
              "<pre style=\"white-space:pre;overflow-x:auto;line-height:normal;font-family:Menlo,'DejaVu Sans Mono',consolas,'Courier New',monospace\">┏━━━━┳━━━━━━━━━━┳━━━━━━━━┳━━━━━━━━━━━┳━━━━━━━━━━┳━━━━━━━━━━━━━━━┓\n",
              "┃<span style=\"font-weight: bold\"> #  </span>┃<span style=\"font-weight: bold\"> Question </span>┃<span style=\"font-weight: bold\"> Points </span>┃<span style=\"font-weight: bold\"> Timeout   </span>┃<span style=\"font-weight: bold\"> Attempts </span>┃<span style=\"font-weight: bold\"> Prerequisites </span>┃\n",
              "┡━━━━╇━━━━━━━━━━╇━━━━━━━━╇━━━━━━━━━━━╇━━━━━━━━━━╇━━━━━━━━━━━━━━━┩\n",
              "│ 85 │ quiz3.01 │ 1      │ Not Timed │ 1        │ NONE          │\n",
              "└────┴──────────┴────────┴───────────┴──────────┴───────────────┘\n",
              "</pre>\n"
            ]
          },
          "metadata": {}
        },
        {
          "output_type": "display_data",
          "data": {
            "text/plain": [
              "TEXT:\n",
              "Consider this block of code:\n",
              "    \n",
              "if x \u001b[1m<\u001b[0m\u001b[39m \u001b[0m\u001b[1;36m5\u001b[0m\u001b[39m:\u001b[0m\n",
              "\u001b[39m   \u001b[0m\u001b[1;35mprint\u001b[0m\u001b[1;39m(\u001b[0m\u001b[32m\"Apple\"\u001b[0m\u001b[1;39m)\u001b[0m\n",
              "\u001b[39melif x \u001b[0m\u001b[1m>\u001b[0m \u001b[1;36m5\u001b[0m:\n",
              "   \u001b[1;35mprint\u001b[0m\u001b[1m(\u001b[0m\u001b[32m\"Banana\"\u001b[0m\u001b[1m)\u001b[0m\n",
              "else:\n",
              "   \u001b[1;35mprint\u001b[0m\u001b[1m(\u001b[0m\u001b[32m\"Carrot\"\u001b[0m\u001b[1m)\u001b[0m\n",
              "\n",
              "If x = \u001b[1;36m5\u001b[0m, what will be printed?\n",
              "\n",
              "Enter \u001b[32m\"print\u001b[0m\u001b[32m(\u001b[0m\u001b[32md.data\u001b[0m\u001b[32m(\u001b[0m\u001b[32m'Quiz3.01'\u001b[0m\u001b[32m)\u001b[0m\u001b[32m)\u001b[0m\u001b[32m\"\u001b[0m to view the choices. Submit the integer next to the correct choice. For example: \n",
              "\u001b[32m'd.answer\u001b[0m\u001b[32m(\u001b[0m\u001b[32m1\u001b[0m\u001b[32m)\u001b[0m\u001b[32m'\u001b[0m\n"
            ],
            "text/html": [
              "<pre style=\"white-space:pre;overflow-x:auto;line-height:normal;font-family:Menlo,'DejaVu Sans Mono',consolas,'Courier New',monospace\">TEXT:\n",
              "Consider this block of code:\n",
              "    \n",
              "if x <span style=\"font-weight: bold\">&lt;</span><span style=\"color: #000000; text-decoration-color: #000000\"> </span><span style=\"color: #008080; text-decoration-color: #008080; font-weight: bold\">5</span><span style=\"color: #000000; text-decoration-color: #000000\">:</span>\n",
              "<span style=\"color: #000000; text-decoration-color: #000000\">   </span><span style=\"color: #800080; text-decoration-color: #800080; font-weight: bold\">print</span><span style=\"color: #000000; text-decoration-color: #000000; font-weight: bold\">(</span><span style=\"color: #008000; text-decoration-color: #008000\">\"Apple\"</span><span style=\"color: #000000; text-decoration-color: #000000; font-weight: bold\">)</span>\n",
              "<span style=\"color: #000000; text-decoration-color: #000000\">elif x </span><span style=\"font-weight: bold\">&gt;</span> <span style=\"color: #008080; text-decoration-color: #008080; font-weight: bold\">5</span>:\n",
              "   <span style=\"color: #800080; text-decoration-color: #800080; font-weight: bold\">print</span><span style=\"font-weight: bold\">(</span><span style=\"color: #008000; text-decoration-color: #008000\">\"Banana\"</span><span style=\"font-weight: bold\">)</span>\n",
              "else:\n",
              "   <span style=\"color: #800080; text-decoration-color: #800080; font-weight: bold\">print</span><span style=\"font-weight: bold\">(</span><span style=\"color: #008000; text-decoration-color: #008000\">\"Carrot\"</span><span style=\"font-weight: bold\">)</span>\n",
              "\n",
              "If x = <span style=\"color: #008080; text-decoration-color: #008080; font-weight: bold\">5</span>, what will be printed?\n",
              "\n",
              "Enter <span style=\"color: #008000; text-decoration-color: #008000\">\"print(d.data('Quiz3.01'))\"</span> to view the choices. Submit the integer next to the correct choice. For example: \n",
              "<span style=\"color: #008000; text-decoration-color: #008000\">'d.answer(1)'</span>\n",
              "</pre>\n"
            ]
          },
          "metadata": {}
        },
        {
          "output_type": "stream",
          "name": "stdout",
          "text": [
            "0) None of these will print\n",
            "1) Apple\n",
            "2) Carrot\n",
            "3) Banana\n"
          ]
        }
      ]
    },
    {
      "cell_type": "code",
      "source": [
        "d.answer(2)"
      ],
      "metadata": {
        "id": "P7XDw58Z0vwX",
        "outputId": "c0a802a1-90cc-46da-f576-f79dbb21980a",
        "colab": {
          "base_uri": "https://localhost:8080/",
          "height": 36
        }
      },
      "execution_count": 10,
      "outputs": [
        {
          "output_type": "execute_result",
          "data": {
            "text/plain": [
              "'Correct!'"
            ],
            "application/vnd.google.colaboratory.intrinsic+json": {
              "type": "string"
            }
          },
          "metadata": {},
          "execution_count": 10
        }
      ]
    },
    {
      "cell_type": "code",
      "source": [
        "qname = \"quiz3.02\"\n",
        "d.question(qname)\n",
        "print(d.data(qname))"
      ],
      "metadata": {
        "id": "7KKqq2U4019x",
        "outputId": "184bcc81-8294-4b36-8554-fd8f7aacb574",
        "colab": {
          "base_uri": "https://localhost:8080/",
          "height": 432
        }
      },
      "execution_count": 11,
      "outputs": [
        {
          "output_type": "display_data",
          "data": {
            "text/plain": [
              "┏━━━━┳━━━━━━━━━━┳━━━━━━━━┳━━━━━━━━━━━┳━━━━━━━━━━┳━━━━━━━━━━━━━━━┓\n",
              "┃\u001b[1m \u001b[0m\u001b[1m# \u001b[0m\u001b[1m \u001b[0m┃\u001b[1m \u001b[0m\u001b[1mQuestion\u001b[0m\u001b[1m \u001b[0m┃\u001b[1m \u001b[0m\u001b[1mPoints\u001b[0m\u001b[1m \u001b[0m┃\u001b[1m \u001b[0m\u001b[1mTimeout  \u001b[0m\u001b[1m \u001b[0m┃\u001b[1m \u001b[0m\u001b[1mAttempts\u001b[0m\u001b[1m \u001b[0m┃\u001b[1m \u001b[0m\u001b[1mPrerequisites\u001b[0m\u001b[1m \u001b[0m┃\n",
              "┡━━━━╇━━━━━━━━━━╇━━━━━━━━╇━━━━━━━━━━━╇━━━━━━━━━━╇━━━━━━━━━━━━━━━┩\n",
              "│ 86 │ quiz3.02 │ 1      │ Not Timed │ 1        │ NONE          │\n",
              "└────┴──────────┴────────┴───────────┴──────────┴───────────────┘\n"
            ],
            "text/html": [
              "<pre style=\"white-space:pre;overflow-x:auto;line-height:normal;font-family:Menlo,'DejaVu Sans Mono',consolas,'Courier New',monospace\">┏━━━━┳━━━━━━━━━━┳━━━━━━━━┳━━━━━━━━━━━┳━━━━━━━━━━┳━━━━━━━━━━━━━━━┓\n",
              "┃<span style=\"font-weight: bold\"> #  </span>┃<span style=\"font-weight: bold\"> Question </span>┃<span style=\"font-weight: bold\"> Points </span>┃<span style=\"font-weight: bold\"> Timeout   </span>┃<span style=\"font-weight: bold\"> Attempts </span>┃<span style=\"font-weight: bold\"> Prerequisites </span>┃\n",
              "┡━━━━╇━━━━━━━━━━╇━━━━━━━━╇━━━━━━━━━━━╇━━━━━━━━━━╇━━━━━━━━━━━━━━━┩\n",
              "│ 86 │ quiz3.02 │ 1      │ Not Timed │ 1        │ NONE          │\n",
              "└────┴──────────┴────────┴───────────┴──────────┴───────────────┘\n",
              "</pre>\n"
            ]
          },
          "metadata": {}
        },
        {
          "output_type": "display_data",
          "data": {
            "text/plain": [
              "TEXT:\n",
              "Consider this block of code:\n",
              "    \n",
              "if x \u001b[1m<\u001b[0m\u001b[39m= \u001b[0m\u001b[1;36m5\u001b[0m\u001b[39m:\u001b[0m\n",
              "\u001b[39m   \u001b[0m\u001b[1;35mprint\u001b[0m\u001b[1;39m(\u001b[0m\u001b[32m\"Apple\"\u001b[0m\u001b[1;39m)\u001b[0m\n",
              "\u001b[39melif x \u001b[0m\u001b[1m>\u001b[0m= \u001b[1;36m5\u001b[0m:\n",
              "   \u001b[1;35mprint\u001b[0m\u001b[1m(\u001b[0m\u001b[32m\"Banana\"\u001b[0m\u001b[1m)\u001b[0m\n",
              "else:\n",
              "   \u001b[1;35mprint\u001b[0m\u001b[1m(\u001b[0m\u001b[32m\"Carrot\"\u001b[0m\u001b[1m)\u001b[0m\n",
              "\n",
              "If x = \u001b[1;36m5\u001b[0m, what will be printed?\n",
              "\n",
              "Enter \u001b[32m\"print\u001b[0m\u001b[32m(\u001b[0m\u001b[32md.data\u001b[0m\u001b[32m(\u001b[0m\u001b[32m'Quiz3.02'\u001b[0m\u001b[32m)\u001b[0m\u001b[32m)\u001b[0m\u001b[32m\"\u001b[0m to view the choices. Submit the integer next to the correct choice. For example: \n",
              "\u001b[32m'd.answer\u001b[0m\u001b[32m(\u001b[0m\u001b[32m1\u001b[0m\u001b[32m)\u001b[0m\u001b[32m'\u001b[0m\n"
            ],
            "text/html": [
              "<pre style=\"white-space:pre;overflow-x:auto;line-height:normal;font-family:Menlo,'DejaVu Sans Mono',consolas,'Courier New',monospace\">TEXT:\n",
              "Consider this block of code:\n",
              "    \n",
              "if x <span style=\"font-weight: bold\">&lt;</span><span style=\"color: #000000; text-decoration-color: #000000\">= </span><span style=\"color: #008080; text-decoration-color: #008080; font-weight: bold\">5</span><span style=\"color: #000000; text-decoration-color: #000000\">:</span>\n",
              "<span style=\"color: #000000; text-decoration-color: #000000\">   </span><span style=\"color: #800080; text-decoration-color: #800080; font-weight: bold\">print</span><span style=\"color: #000000; text-decoration-color: #000000; font-weight: bold\">(</span><span style=\"color: #008000; text-decoration-color: #008000\">\"Apple\"</span><span style=\"color: #000000; text-decoration-color: #000000; font-weight: bold\">)</span>\n",
              "<span style=\"color: #000000; text-decoration-color: #000000\">elif x </span><span style=\"font-weight: bold\">&gt;</span>= <span style=\"color: #008080; text-decoration-color: #008080; font-weight: bold\">5</span>:\n",
              "   <span style=\"color: #800080; text-decoration-color: #800080; font-weight: bold\">print</span><span style=\"font-weight: bold\">(</span><span style=\"color: #008000; text-decoration-color: #008000\">\"Banana\"</span><span style=\"font-weight: bold\">)</span>\n",
              "else:\n",
              "   <span style=\"color: #800080; text-decoration-color: #800080; font-weight: bold\">print</span><span style=\"font-weight: bold\">(</span><span style=\"color: #008000; text-decoration-color: #008000\">\"Carrot\"</span><span style=\"font-weight: bold\">)</span>\n",
              "\n",
              "If x = <span style=\"color: #008080; text-decoration-color: #008080; font-weight: bold\">5</span>, what will be printed?\n",
              "\n",
              "Enter <span style=\"color: #008000; text-decoration-color: #008000\">\"print(d.data('Quiz3.02'))\"</span> to view the choices. Submit the integer next to the correct choice. For example: \n",
              "<span style=\"color: #008000; text-decoration-color: #008000\">'d.answer(1)'</span>\n",
              "</pre>\n"
            ]
          },
          "metadata": {}
        },
        {
          "output_type": "stream",
          "name": "stdout",
          "text": [
            "0) None of these will print\n",
            "1) Apple\n",
            "2) Banana\n",
            "3) Apple and Banana\n",
            "4) Carrot\n"
          ]
        }
      ]
    },
    {
      "cell_type": "code",
      "source": [
        "d.answer(1)"
      ],
      "metadata": {
        "id": "YyfOBw4w15-F",
        "outputId": "b0e97acf-526e-40ee-c5b6-8ee2a99313a1",
        "colab": {
          "base_uri": "https://localhost:8080/",
          "height": 36
        }
      },
      "execution_count": 13,
      "outputs": [
        {
          "output_type": "execute_result",
          "data": {
            "text/plain": [
              "'You can no longer attempt to answer this question.'"
            ],
            "application/vnd.google.colaboratory.intrinsic+json": {
              "type": "string"
            }
          },
          "metadata": {},
          "execution_count": 13
        }
      ]
    },
    {
      "cell_type": "code",
      "source": [
        "qname = \"quiz3.03\"\n",
        "d.question(qname)\n",
        "print(d.data(qname))"
      ],
      "metadata": {
        "id": "2HvCDV3225-k",
        "outputId": "d053d0cb-4031-439f-f27c-2b63ca97a14e",
        "colab": {
          "base_uri": "https://localhost:8080/",
          "height": 414
        }
      },
      "execution_count": 14,
      "outputs": [
        {
          "output_type": "display_data",
          "data": {
            "text/plain": [
              "┏━━━━┳━━━━━━━━━━┳━━━━━━━━┳━━━━━━━━━━━┳━━━━━━━━━━┳━━━━━━━━━━━━━━━┓\n",
              "┃\u001b[1m \u001b[0m\u001b[1m# \u001b[0m\u001b[1m \u001b[0m┃\u001b[1m \u001b[0m\u001b[1mQuestion\u001b[0m\u001b[1m \u001b[0m┃\u001b[1m \u001b[0m\u001b[1mPoints\u001b[0m\u001b[1m \u001b[0m┃\u001b[1m \u001b[0m\u001b[1mTimeout  \u001b[0m\u001b[1m \u001b[0m┃\u001b[1m \u001b[0m\u001b[1mAttempts\u001b[0m\u001b[1m \u001b[0m┃\u001b[1m \u001b[0m\u001b[1mPrerequisites\u001b[0m\u001b[1m \u001b[0m┃\n",
              "┡━━━━╇━━━━━━━━━━╇━━━━━━━━╇━━━━━━━━━━━╇━━━━━━━━━━╇━━━━━━━━━━━━━━━┩\n",
              "│ 87 │ quiz3.03 │ 1      │ Not Timed │ 1        │ NONE          │\n",
              "└────┴──────────┴────────┴───────────┴──────────┴───────────────┘\n"
            ],
            "text/html": [
              "<pre style=\"white-space:pre;overflow-x:auto;line-height:normal;font-family:Menlo,'DejaVu Sans Mono',consolas,'Courier New',monospace\">┏━━━━┳━━━━━━━━━━┳━━━━━━━━┳━━━━━━━━━━━┳━━━━━━━━━━┳━━━━━━━━━━━━━━━┓\n",
              "┃<span style=\"font-weight: bold\"> #  </span>┃<span style=\"font-weight: bold\"> Question </span>┃<span style=\"font-weight: bold\"> Points </span>┃<span style=\"font-weight: bold\"> Timeout   </span>┃<span style=\"font-weight: bold\"> Attempts </span>┃<span style=\"font-weight: bold\"> Prerequisites </span>┃\n",
              "┡━━━━╇━━━━━━━━━━╇━━━━━━━━╇━━━━━━━━━━━╇━━━━━━━━━━╇━━━━━━━━━━━━━━━┩\n",
              "│ 87 │ quiz3.03 │ 1      │ Not Timed │ 1        │ NONE          │\n",
              "└────┴──────────┴────────┴───────────┴──────────┴───────────────┘\n",
              "</pre>\n"
            ]
          },
          "metadata": {}
        },
        {
          "output_type": "display_data",
          "data": {
            "text/plain": [
              "TEXT:\n",
              "Consider this block of code:\n",
              "    \n",
              "if x \u001b[1m<\u001b[0m\u001b[39m= \u001b[0m\u001b[1;36m5\u001b[0m\u001b[39m:\u001b[0m\n",
              "\u001b[39m   \u001b[0m\u001b[1;35mprint\u001b[0m\u001b[1;39m(\u001b[0m\u001b[32m\"Apple\"\u001b[0m\u001b[1;39m)\u001b[0m\n",
              "\u001b[39melif x \u001b[0m\u001b[1m>\u001b[0m= \u001b[1;36m5\u001b[0m:\n",
              "   \u001b[1;35mprint\u001b[0m\u001b[1m(\u001b[0m\u001b[32m\"Banana\"\u001b[0m\u001b[1m)\u001b[0m\n",
              "else:\n",
              "   \u001b[1;35mprint\u001b[0m\u001b[1m(\u001b[0m\u001b[32m\"Carrot\"\u001b[0m\u001b[1m)\u001b[0m\n",
              "\n",
              "If x = \u001b[1;35mstr\u001b[0m\u001b[1m(\u001b[0m\u001b[1;36m5\u001b[0m\u001b[1m)\u001b[0m, what will be printed?\n",
              "\n",
              "Enter \u001b[32m\"print\u001b[0m\u001b[32m(\u001b[0m\u001b[32md.data\u001b[0m\u001b[32m(\u001b[0m\u001b[32m'Quiz3.03'\u001b[0m\u001b[32m)\u001b[0m\u001b[32m)\u001b[0m\u001b[32m\"\u001b[0m to view the choices. Submit the integer next to the correct choice. For example: \n",
              "\u001b[32m'd.answer\u001b[0m\u001b[32m(\u001b[0m\u001b[32m1\u001b[0m\u001b[32m)\u001b[0m\u001b[32m'\u001b[0m\n"
            ],
            "text/html": [
              "<pre style=\"white-space:pre;overflow-x:auto;line-height:normal;font-family:Menlo,'DejaVu Sans Mono',consolas,'Courier New',monospace\">TEXT:\n",
              "Consider this block of code:\n",
              "    \n",
              "if x <span style=\"font-weight: bold\">&lt;</span><span style=\"color: #000000; text-decoration-color: #000000\">= </span><span style=\"color: #008080; text-decoration-color: #008080; font-weight: bold\">5</span><span style=\"color: #000000; text-decoration-color: #000000\">:</span>\n",
              "<span style=\"color: #000000; text-decoration-color: #000000\">   </span><span style=\"color: #800080; text-decoration-color: #800080; font-weight: bold\">print</span><span style=\"color: #000000; text-decoration-color: #000000; font-weight: bold\">(</span><span style=\"color: #008000; text-decoration-color: #008000\">\"Apple\"</span><span style=\"color: #000000; text-decoration-color: #000000; font-weight: bold\">)</span>\n",
              "<span style=\"color: #000000; text-decoration-color: #000000\">elif x </span><span style=\"font-weight: bold\">&gt;</span>= <span style=\"color: #008080; text-decoration-color: #008080; font-weight: bold\">5</span>:\n",
              "   <span style=\"color: #800080; text-decoration-color: #800080; font-weight: bold\">print</span><span style=\"font-weight: bold\">(</span><span style=\"color: #008000; text-decoration-color: #008000\">\"Banana\"</span><span style=\"font-weight: bold\">)</span>\n",
              "else:\n",
              "   <span style=\"color: #800080; text-decoration-color: #800080; font-weight: bold\">print</span><span style=\"font-weight: bold\">(</span><span style=\"color: #008000; text-decoration-color: #008000\">\"Carrot\"</span><span style=\"font-weight: bold\">)</span>\n",
              "\n",
              "If x = <span style=\"color: #800080; text-decoration-color: #800080; font-weight: bold\">str</span><span style=\"font-weight: bold\">(</span><span style=\"color: #008080; text-decoration-color: #008080; font-weight: bold\">5</span><span style=\"font-weight: bold\">)</span>, what will be printed?\n",
              "\n",
              "Enter <span style=\"color: #008000; text-decoration-color: #008000\">\"print(d.data('Quiz3.03'))\"</span> to view the choices. Submit the integer next to the correct choice. For example: \n",
              "<span style=\"color: #008000; text-decoration-color: #008000\">'d.answer(1)'</span>\n",
              "</pre>\n"
            ]
          },
          "metadata": {}
        },
        {
          "output_type": "stream",
          "name": "stdout",
          "text": [
            "0) None of these will print\n",
            "1) Banana\n",
            "2) Apple\n",
            "3) Carrot\n"
          ]
        }
      ]
    },
    {
      "cell_type": "code",
      "source": [
        "d.answer(0)"
      ],
      "metadata": {
        "id": "QosIxGuR3NZE",
        "outputId": "f7aa1852-126a-4e10-daaa-767c7a9cfa6a",
        "colab": {
          "base_uri": "https://localhost:8080/",
          "height": 36
        }
      },
      "execution_count": 15,
      "outputs": [
        {
          "output_type": "execute_result",
          "data": {
            "text/plain": [
              "'Correct!'"
            ],
            "application/vnd.google.colaboratory.intrinsic+json": {
              "type": "string"
            }
          },
          "metadata": {},
          "execution_count": 15
        }
      ]
    },
    {
      "cell_type": "code",
      "source": [
        "qname = \"quiz3.04\"\n",
        "d.question(qname)\n",
        "print(d.data(qname))"
      ],
      "metadata": {
        "id": "zSOlcC8V3Pw2",
        "outputId": "16257f57-b175-4bee-83ca-788de3e05953",
        "colab": {
          "base_uri": "https://localhost:8080/",
          "height": 449
        }
      },
      "execution_count": 16,
      "outputs": [
        {
          "output_type": "display_data",
          "data": {
            "text/plain": [
              "┏━━━━┳━━━━━━━━━━┳━━━━━━━━┳━━━━━━━━━━━┳━━━━━━━━━━┳━━━━━━━━━━━━━━━┓\n",
              "┃\u001b[1m \u001b[0m\u001b[1m# \u001b[0m\u001b[1m \u001b[0m┃\u001b[1m \u001b[0m\u001b[1mQuestion\u001b[0m\u001b[1m \u001b[0m┃\u001b[1m \u001b[0m\u001b[1mPoints\u001b[0m\u001b[1m \u001b[0m┃\u001b[1m \u001b[0m\u001b[1mTimeout  \u001b[0m\u001b[1m \u001b[0m┃\u001b[1m \u001b[0m\u001b[1mAttempts\u001b[0m\u001b[1m \u001b[0m┃\u001b[1m \u001b[0m\u001b[1mPrerequisites\u001b[0m\u001b[1m \u001b[0m┃\n",
              "┡━━━━╇━━━━━━━━━━╇━━━━━━━━╇━━━━━━━━━━━╇━━━━━━━━━━╇━━━━━━━━━━━━━━━┩\n",
              "│ 88 │ quiz3.04 │ 1      │ Not Timed │ 1        │ NONE          │\n",
              "└────┴──────────┴────────┴───────────┴──────────┴───────────────┘\n"
            ],
            "text/html": [
              "<pre style=\"white-space:pre;overflow-x:auto;line-height:normal;font-family:Menlo,'DejaVu Sans Mono',consolas,'Courier New',monospace\">┏━━━━┳━━━━━━━━━━┳━━━━━━━━┳━━━━━━━━━━━┳━━━━━━━━━━┳━━━━━━━━━━━━━━━┓\n",
              "┃<span style=\"font-weight: bold\"> #  </span>┃<span style=\"font-weight: bold\"> Question </span>┃<span style=\"font-weight: bold\"> Points </span>┃<span style=\"font-weight: bold\"> Timeout   </span>┃<span style=\"font-weight: bold\"> Attempts </span>┃<span style=\"font-weight: bold\"> Prerequisites </span>┃\n",
              "┡━━━━╇━━━━━━━━━━╇━━━━━━━━╇━━━━━━━━━━━╇━━━━━━━━━━╇━━━━━━━━━━━━━━━┩\n",
              "│ 88 │ quiz3.04 │ 1      │ Not Timed │ 1        │ NONE          │\n",
              "└────┴──────────┴────────┴───────────┴──────────┴───────────────┘\n",
              "</pre>\n"
            ]
          },
          "metadata": {}
        },
        {
          "output_type": "display_data",
          "data": {
            "text/plain": [
              "TEXT:\n",
              "Consider this block of code:\n",
              "    \n",
              "fruits = \u001b[1m[\u001b[0m\u001b[32m\"apple\"\u001b[0m, \u001b[32m\"banana\"\u001b[0m, \u001b[32m\"carrot\"\u001b[0m\u001b[1m]\u001b[0m\n",
              "for fruit in fruits:\n",
              "    if fruit == favorite:\n",
              "        break\n",
              "    \u001b[1;35mprint\u001b[0m\u001b[1m(\u001b[0mfruit\u001b[1m)\u001b[0m\n",
              "else:\n",
              "    \u001b[1;35mprint\u001b[0m\u001b[1m(\u001b[0m\u001b[32m\"donut\"\u001b[0m\u001b[1m)\u001b[0m\n",
              "\n",
              "If favorite = \u001b[32m\"banana\"\u001b[0m what will be printed?\n",
              "\n",
              "Enter \u001b[32m\"print\u001b[0m\u001b[32m(\u001b[0m\u001b[32md.data\u001b[0m\u001b[32m(\u001b[0m\u001b[32m'Quiz3.04'\u001b[0m\u001b[32m)\u001b[0m\u001b[32m)\u001b[0m\u001b[32m\"\u001b[0m to view the choices. Submit the integer next to the correct choice. For example: \n",
              "\u001b[32m'd.answer\u001b[0m\u001b[32m(\u001b[0m\u001b[32m1\u001b[0m\u001b[32m)\u001b[0m\u001b[32m'\u001b[0m\n"
            ],
            "text/html": [
              "<pre style=\"white-space:pre;overflow-x:auto;line-height:normal;font-family:Menlo,'DejaVu Sans Mono',consolas,'Courier New',monospace\">TEXT:\n",
              "Consider this block of code:\n",
              "    \n",
              "fruits = <span style=\"font-weight: bold\">[</span><span style=\"color: #008000; text-decoration-color: #008000\">\"apple\"</span>, <span style=\"color: #008000; text-decoration-color: #008000\">\"banana\"</span>, <span style=\"color: #008000; text-decoration-color: #008000\">\"carrot\"</span><span style=\"font-weight: bold\">]</span>\n",
              "for fruit in fruits:\n",
              "    if fruit == favorite:\n",
              "        break\n",
              "    <span style=\"color: #800080; text-decoration-color: #800080; font-weight: bold\">print</span><span style=\"font-weight: bold\">(</span>fruit<span style=\"font-weight: bold\">)</span>\n",
              "else:\n",
              "    <span style=\"color: #800080; text-decoration-color: #800080; font-weight: bold\">print</span><span style=\"font-weight: bold\">(</span><span style=\"color: #008000; text-decoration-color: #008000\">\"donut\"</span><span style=\"font-weight: bold\">)</span>\n",
              "\n",
              "If favorite = <span style=\"color: #008000; text-decoration-color: #008000\">\"banana\"</span> what will be printed?\n",
              "\n",
              "Enter <span style=\"color: #008000; text-decoration-color: #008000\">\"print(d.data('Quiz3.04'))\"</span> to view the choices. Submit the integer next to the correct choice. For example: \n",
              "<span style=\"color: #008000; text-decoration-color: #008000\">'d.answer(1)'</span>\n",
              "</pre>\n"
            ]
          },
          "metadata": {}
        },
        {
          "output_type": "stream",
          "name": "stdout",
          "text": [
            "0) apple and banana and donut\n",
            "1) apple and donut\n",
            "2) apple and banana\n",
            "3) apple and banana and carrot\n",
            "4) apple\n"
          ]
        }
      ]
    },
    {
      "cell_type": "code",
      "source": [
        "favorite = \"banana\"\n",
        "\n",
        "fruits = [\"apple\", \"banana\", \"carrot\"]\n",
        "for fruit in fruits:\n",
        "    if fruit == favorite:\n",
        "        break\n",
        "    print(fruit)\n",
        "else:\n",
        "    print(\"donut\")\n"
      ],
      "metadata": {
        "id": "Te4FDm0G38Ms",
        "outputId": "d16d28d4-21b8-406f-cdc8-86096938f0f2",
        "colab": {
          "base_uri": "https://localhost:8080/"
        }
      },
      "execution_count": 26,
      "outputs": [
        {
          "output_type": "stream",
          "name": "stdout",
          "text": [
            "apple\n"
          ]
        }
      ]
    },
    {
      "cell_type": "code",
      "source": [
        "d.answer(4)"
      ],
      "metadata": {
        "id": "poZ173V64T_c",
        "outputId": "643ad2d1-cc40-44fd-9b38-25c7d4266e78",
        "colab": {
          "base_uri": "https://localhost:8080/",
          "height": 36
        }
      },
      "execution_count": 27,
      "outputs": [
        {
          "output_type": "execute_result",
          "data": {
            "text/plain": [
              "'Correct!'"
            ],
            "application/vnd.google.colaboratory.intrinsic+json": {
              "type": "string"
            }
          },
          "metadata": {},
          "execution_count": 27
        }
      ]
    },
    {
      "cell_type": "code",
      "source": [
        "qname = \"quiz3.05\"\n",
        "d.question(qname)\n",
        "print(d.data(qname))"
      ],
      "metadata": {
        "id": "Dvx5ukdL4XK7",
        "outputId": "c653fc9f-e01e-4d07-9c8b-232a4ceab2dd",
        "colab": {
          "base_uri": "https://localhost:8080/",
          "height": 431
        }
      },
      "execution_count": 28,
      "outputs": [
        {
          "output_type": "display_data",
          "data": {
            "text/plain": [
              "┏━━━━┳━━━━━━━━━━┳━━━━━━━━┳━━━━━━━━━━━┳━━━━━━━━━━┳━━━━━━━━━━━━━━━┓\n",
              "┃\u001b[1m \u001b[0m\u001b[1m# \u001b[0m\u001b[1m \u001b[0m┃\u001b[1m \u001b[0m\u001b[1mQuestion\u001b[0m\u001b[1m \u001b[0m┃\u001b[1m \u001b[0m\u001b[1mPoints\u001b[0m\u001b[1m \u001b[0m┃\u001b[1m \u001b[0m\u001b[1mTimeout  \u001b[0m\u001b[1m \u001b[0m┃\u001b[1m \u001b[0m\u001b[1mAttempts\u001b[0m\u001b[1m \u001b[0m┃\u001b[1m \u001b[0m\u001b[1mPrerequisites\u001b[0m\u001b[1m \u001b[0m┃\n",
              "┡━━━━╇━━━━━━━━━━╇━━━━━━━━╇━━━━━━━━━━━╇━━━━━━━━━━╇━━━━━━━━━━━━━━━┩\n",
              "│ 89 │ quiz3.05 │ 1      │ Not Timed │ 1        │ NONE          │\n",
              "└────┴──────────┴────────┴───────────┴──────────┴───────────────┘\n"
            ],
            "text/html": [
              "<pre style=\"white-space:pre;overflow-x:auto;line-height:normal;font-family:Menlo,'DejaVu Sans Mono',consolas,'Courier New',monospace\">┏━━━━┳━━━━━━━━━━┳━━━━━━━━┳━━━━━━━━━━━┳━━━━━━━━━━┳━━━━━━━━━━━━━━━┓\n",
              "┃<span style=\"font-weight: bold\"> #  </span>┃<span style=\"font-weight: bold\"> Question </span>┃<span style=\"font-weight: bold\"> Points </span>┃<span style=\"font-weight: bold\"> Timeout   </span>┃<span style=\"font-weight: bold\"> Attempts </span>┃<span style=\"font-weight: bold\"> Prerequisites </span>┃\n",
              "┡━━━━╇━━━━━━━━━━╇━━━━━━━━╇━━━━━━━━━━━╇━━━━━━━━━━╇━━━━━━━━━━━━━━━┩\n",
              "│ 89 │ quiz3.05 │ 1      │ Not Timed │ 1        │ NONE          │\n",
              "└────┴──────────┴────────┴───────────┴──────────┴───────────────┘\n",
              "</pre>\n"
            ]
          },
          "metadata": {}
        },
        {
          "output_type": "display_data",
          "data": {
            "text/plain": [
              "TEXT:\n",
              "Consider this block of code:\n",
              "    \n",
              "fruits = \u001b[1m[\u001b[0m\u001b[32m\"apple\"\u001b[0m, \u001b[32m\"banana\"\u001b[0m, \u001b[32m\"carrot\"\u001b[0m\u001b[1m]\u001b[0m\n",
              "for fruit in fruits:\n",
              "    if fruit == favorite:\n",
              "        break\n",
              "    \u001b[1;35mprint\u001b[0m\u001b[1m(\u001b[0mfruit\u001b[1m)\u001b[0m\n",
              "else:\n",
              "    \u001b[1;35mprint\u001b[0m\u001b[1m(\u001b[0m\u001b[32m\"donut\"\u001b[0m\u001b[1m)\u001b[0m\n",
              "\n",
              "If favorite = \u001b[32m\"donut\"\u001b[0m what will be printed?\n",
              "\n",
              "Enter \u001b[32m\"print\u001b[0m\u001b[32m(\u001b[0m\u001b[32md.data\u001b[0m\u001b[32m(\u001b[0m\u001b[32m'Quiz3.05'\u001b[0m\u001b[32m)\u001b[0m\u001b[32m)\u001b[0m\u001b[32m\"\u001b[0m to view the choices. Submit the integer next to the correct choice. For example: \n",
              "\u001b[32m'd.answer\u001b[0m\u001b[32m(\u001b[0m\u001b[32m1\u001b[0m\u001b[32m)\u001b[0m\u001b[32m'\u001b[0m\n"
            ],
            "text/html": [
              "<pre style=\"white-space:pre;overflow-x:auto;line-height:normal;font-family:Menlo,'DejaVu Sans Mono',consolas,'Courier New',monospace\">TEXT:\n",
              "Consider this block of code:\n",
              "    \n",
              "fruits = <span style=\"font-weight: bold\">[</span><span style=\"color: #008000; text-decoration-color: #008000\">\"apple\"</span>, <span style=\"color: #008000; text-decoration-color: #008000\">\"banana\"</span>, <span style=\"color: #008000; text-decoration-color: #008000\">\"carrot\"</span><span style=\"font-weight: bold\">]</span>\n",
              "for fruit in fruits:\n",
              "    if fruit == favorite:\n",
              "        break\n",
              "    <span style=\"color: #800080; text-decoration-color: #800080; font-weight: bold\">print</span><span style=\"font-weight: bold\">(</span>fruit<span style=\"font-weight: bold\">)</span>\n",
              "else:\n",
              "    <span style=\"color: #800080; text-decoration-color: #800080; font-weight: bold\">print</span><span style=\"font-weight: bold\">(</span><span style=\"color: #008000; text-decoration-color: #008000\">\"donut\"</span><span style=\"font-weight: bold\">)</span>\n",
              "\n",
              "If favorite = <span style=\"color: #008000; text-decoration-color: #008000\">\"donut\"</span> what will be printed?\n",
              "\n",
              "Enter <span style=\"color: #008000; text-decoration-color: #008000\">\"print(d.data('Quiz3.05'))\"</span> to view the choices. Submit the integer next to the correct choice. For example: \n",
              "<span style=\"color: #008000; text-decoration-color: #008000\">'d.answer(1)'</span>\n",
              "</pre>\n"
            ]
          },
          "metadata": {}
        },
        {
          "output_type": "stream",
          "name": "stdout",
          "text": [
            "0) apple and banana and carrot\n",
            "1) apple and banana and carrot and donut\n",
            "2) donut\n",
            "3) apple and donut\n"
          ]
        }
      ]
    },
    {
      "cell_type": "code",
      "source": [
        "d.answer(2)\n",
        "\n",
        "I meant to put (1)... but i counted it as (2) becuase it was the 2nd option!!"
      ],
      "metadata": {
        "id": "k5Rq2fD446fy",
        "outputId": "943e3b4c-a6a1-43c5-816e-b174d45c631f",
        "colab": {
          "base_uri": "https://localhost:8080/",
          "height": 36
        }
      },
      "execution_count": 35,
      "outputs": [
        {
          "output_type": "execute_result",
          "data": {
            "text/plain": [
              "'You can no longer attempt to answer this question.'"
            ],
            "application/vnd.google.colaboratory.intrinsic+json": {
              "type": "string"
            }
          },
          "metadata": {},
          "execution_count": 35
        }
      ]
    },
    {
      "cell_type": "code",
      "source": [
        "favorite = \"donut\"\n",
        "\n",
        "fruits = [\"apple\", \"banana\", \"carrot\"]\n",
        "for fruit in fruits:\n",
        "    if fruit == favorite:\n",
        "        break\n",
        "    print(fruit)\n",
        "else:\n",
        "    print(\"donut\")\n",
        "\n"
      ],
      "metadata": {
        "id": "ptQOkQta4c38",
        "outputId": "4d2232f4-2e31-45d2-8e22-7d4d2dc4dcfe",
        "colab": {
          "base_uri": "https://localhost:8080/"
        }
      },
      "execution_count": 34,
      "outputs": [
        {
          "output_type": "stream",
          "name": "stdout",
          "text": [
            "apple\n",
            "banana\n",
            "carrot\n",
            "donut\n"
          ]
        }
      ]
    },
    {
      "cell_type": "code",
      "source": [
        "qname = \"quiz3.06\"\n",
        "d.question(qname)\n",
        "print(d.data(qname))"
      ],
      "metadata": {
        "id": "Eipf8WQT4tfM",
        "outputId": "5a5fb766-87e1-4661-d22e-4d5abbd694f6",
        "colab": {
          "base_uri": "https://localhost:8080/",
          "height": 448
        }
      },
      "execution_count": 36,
      "outputs": [
        {
          "output_type": "display_data",
          "data": {
            "text/plain": [
              "┏━━━━┳━━━━━━━━━━┳━━━━━━━━┳━━━━━━━━━━━┳━━━━━━━━━━┳━━━━━━━━━━━━━━━┓\n",
              "┃\u001b[1m \u001b[0m\u001b[1m# \u001b[0m\u001b[1m \u001b[0m┃\u001b[1m \u001b[0m\u001b[1mQuestion\u001b[0m\u001b[1m \u001b[0m┃\u001b[1m \u001b[0m\u001b[1mPoints\u001b[0m\u001b[1m \u001b[0m┃\u001b[1m \u001b[0m\u001b[1mTimeout  \u001b[0m\u001b[1m \u001b[0m┃\u001b[1m \u001b[0m\u001b[1mAttempts\u001b[0m\u001b[1m \u001b[0m┃\u001b[1m \u001b[0m\u001b[1mPrerequisites\u001b[0m\u001b[1m \u001b[0m┃\n",
              "┡━━━━╇━━━━━━━━━━╇━━━━━━━━╇━━━━━━━━━━━╇━━━━━━━━━━╇━━━━━━━━━━━━━━━┩\n",
              "│ 90 │ quiz3.06 │ 1      │ Not Timed │ 1        │ NONE          │\n",
              "└────┴──────────┴────────┴───────────┴──────────┴───────────────┘\n"
            ],
            "text/html": [
              "<pre style=\"white-space:pre;overflow-x:auto;line-height:normal;font-family:Menlo,'DejaVu Sans Mono',consolas,'Courier New',monospace\">┏━━━━┳━━━━━━━━━━┳━━━━━━━━┳━━━━━━━━━━━┳━━━━━━━━━━┳━━━━━━━━━━━━━━━┓\n",
              "┃<span style=\"font-weight: bold\"> #  </span>┃<span style=\"font-weight: bold\"> Question </span>┃<span style=\"font-weight: bold\"> Points </span>┃<span style=\"font-weight: bold\"> Timeout   </span>┃<span style=\"font-weight: bold\"> Attempts </span>┃<span style=\"font-weight: bold\"> Prerequisites </span>┃\n",
              "┡━━━━╇━━━━━━━━━━╇━━━━━━━━╇━━━━━━━━━━━╇━━━━━━━━━━╇━━━━━━━━━━━━━━━┩\n",
              "│ 90 │ quiz3.06 │ 1      │ Not Timed │ 1        │ NONE          │\n",
              "└────┴──────────┴────────┴───────────┴──────────┴───────────────┘\n",
              "</pre>\n"
            ]
          },
          "metadata": {}
        },
        {
          "output_type": "display_data",
          "data": {
            "text/plain": [
              "TEXT:\n",
              "Consider this block of code:\n",
              "    \n",
              "x = \u001b[1;36m0\u001b[0m\n",
              "y = \u001b[1;36m5\u001b[0m\n",
              "while x \u001b[1m<\u001b[0m\u001b[39m \u001b[0m\u001b[1;36m2\u001b[0m\u001b[39m and y \u001b[0m\u001b[1m>\u001b[0m \u001b[1;36m0\u001b[0m:\n",
              "    \u001b[1;35mprint\u001b[0m\u001b[1m(\u001b[0mx, y, \u001b[33mend\u001b[0m=\u001b[32m\" \"\u001b[0m\u001b[1m)\u001b[0m\n",
              "    x += \u001b[1;36m1\u001b[0m\n",
              "    y -= \u001b[1;36m1\u001b[0m\n",
              "else:\n",
              "    \u001b[1;35mprint\u001b[0m\u001b[1m(\u001b[0mx, y\u001b[1m)\u001b[0m\n",
              "\n",
              "What will be printed?\n",
              "\n",
              "Enter \u001b[32m\"print\u001b[0m\u001b[32m(\u001b[0m\u001b[32md.data\u001b[0m\u001b[32m(\u001b[0m\u001b[32m'Quiz3.06'\u001b[0m\u001b[32m)\u001b[0m\u001b[32m)\u001b[0m\u001b[32m\"\u001b[0m to view the choices. Submit the integer next to the correct choice. For example: \n",
              "\u001b[32m'd.answer\u001b[0m\u001b[32m(\u001b[0m\u001b[32m1\u001b[0m\u001b[32m)\u001b[0m\u001b[32m'\u001b[0m\n"
            ],
            "text/html": [
              "<pre style=\"white-space:pre;overflow-x:auto;line-height:normal;font-family:Menlo,'DejaVu Sans Mono',consolas,'Courier New',monospace\">TEXT:\n",
              "Consider this block of code:\n",
              "    \n",
              "x = <span style=\"color: #008080; text-decoration-color: #008080; font-weight: bold\">0</span>\n",
              "y = <span style=\"color: #008080; text-decoration-color: #008080; font-weight: bold\">5</span>\n",
              "while x <span style=\"font-weight: bold\">&lt;</span><span style=\"color: #000000; text-decoration-color: #000000\"> </span><span style=\"color: #008080; text-decoration-color: #008080; font-weight: bold\">2</span><span style=\"color: #000000; text-decoration-color: #000000\"> and y </span><span style=\"font-weight: bold\">&gt;</span> <span style=\"color: #008080; text-decoration-color: #008080; font-weight: bold\">0</span>:\n",
              "    <span style=\"color: #800080; text-decoration-color: #800080; font-weight: bold\">print</span><span style=\"font-weight: bold\">(</span>x, y, <span style=\"color: #808000; text-decoration-color: #808000\">end</span>=<span style=\"color: #008000; text-decoration-color: #008000\">\" \"</span><span style=\"font-weight: bold\">)</span>\n",
              "    x += <span style=\"color: #008080; text-decoration-color: #008080; font-weight: bold\">1</span>\n",
              "    y -= <span style=\"color: #008080; text-decoration-color: #008080; font-weight: bold\">1</span>\n",
              "else:\n",
              "    <span style=\"color: #800080; text-decoration-color: #800080; font-weight: bold\">print</span><span style=\"font-weight: bold\">(</span>x, y<span style=\"font-weight: bold\">)</span>\n",
              "\n",
              "What will be printed?\n",
              "\n",
              "Enter <span style=\"color: #008000; text-decoration-color: #008000\">\"print(d.data('Quiz3.06'))\"</span> to view the choices. Submit the integer next to the correct choice. For example: \n",
              "<span style=\"color: #008000; text-decoration-color: #008000\">'d.answer(1)'</span>\n",
              "</pre>\n"
            ]
          },
          "metadata": {}
        },
        {
          "output_type": "stream",
          "name": "stdout",
          "text": [
            "0) 0 5 1 4\n",
            "1) 1 4 2 3 3 2 4 1 5 0 5 0\n",
            "2) 0 5 1 4 2 3\n",
            "3) 1 4 2 3 2 3\n"
          ]
        }
      ]
    },
    {
      "cell_type": "code",
      "source": [
        "d.answer(2)"
      ],
      "metadata": {
        "id": "JrVnB9Gy5WHb",
        "outputId": "0e9592aa-94a6-4a75-c131-9097c2e46e63",
        "colab": {
          "base_uri": "https://localhost:8080/",
          "height": 36
        }
      },
      "execution_count": 38,
      "outputs": [
        {
          "output_type": "execute_result",
          "data": {
            "text/plain": [
              "'Correct!'"
            ],
            "application/vnd.google.colaboratory.intrinsic+json": {
              "type": "string"
            }
          },
          "metadata": {},
          "execution_count": 38
        }
      ]
    },
    {
      "cell_type": "code",
      "source": [
        "x = 0\n",
        "y = 5\n",
        "while x < 2 and y > 0:\n",
        "    print(x, y, end=\" \")\n",
        "    x += 1\n",
        "    y -= 1\n",
        "else:\n",
        "    print(x, y)\n"
      ],
      "metadata": {
        "id": "7YMvn2K95TQD",
        "outputId": "711dbe2f-afa0-4c25-9302-4e518a2cc5df",
        "colab": {
          "base_uri": "https://localhost:8080/"
        }
      },
      "execution_count": 37,
      "outputs": [
        {
          "output_type": "stream",
          "name": "stdout",
          "text": [
            "0 5 1 4 2 3\n"
          ]
        }
      ]
    },
    {
      "cell_type": "code",
      "source": [
        "qname = \"quiz3.07\"\n",
        "d.question(qname)\n",
        "print(d.data(qname))"
      ],
      "metadata": {
        "id": "kXdU9bvk5a2R",
        "outputId": "92954307-afa1-4a70-ccd7-415e30774981",
        "colab": {
          "base_uri": "https://localhost:8080/",
          "height": 266
        }
      },
      "execution_count": 39,
      "outputs": [
        {
          "output_type": "display_data",
          "data": {
            "text/plain": [
              "┏━━━━┳━━━━━━━━━━┳━━━━━━━━┳━━━━━━━━━━━┳━━━━━━━━━━┳━━━━━━━━━━━━━━━┓\n",
              "┃\u001b[1m \u001b[0m\u001b[1m# \u001b[0m\u001b[1m \u001b[0m┃\u001b[1m \u001b[0m\u001b[1mQuestion\u001b[0m\u001b[1m \u001b[0m┃\u001b[1m \u001b[0m\u001b[1mPoints\u001b[0m\u001b[1m \u001b[0m┃\u001b[1m \u001b[0m\u001b[1mTimeout  \u001b[0m\u001b[1m \u001b[0m┃\u001b[1m \u001b[0m\u001b[1mAttempts\u001b[0m\u001b[1m \u001b[0m┃\u001b[1m \u001b[0m\u001b[1mPrerequisites\u001b[0m\u001b[1m \u001b[0m┃\n",
              "┡━━━━╇━━━━━━━━━━╇━━━━━━━━╇━━━━━━━━━━━╇━━━━━━━━━━╇━━━━━━━━━━━━━━━┩\n",
              "│ 91 │ quiz3.07 │ 1      │ Not Timed │ 1        │ NONE          │\n",
              "└────┴──────────┴────────┴───────────┴──────────┴───────────────┘\n"
            ],
            "text/html": [
              "<pre style=\"white-space:pre;overflow-x:auto;line-height:normal;font-family:Menlo,'DejaVu Sans Mono',consolas,'Courier New',monospace\">┏━━━━┳━━━━━━━━━━┳━━━━━━━━┳━━━━━━━━━━━┳━━━━━━━━━━┳━━━━━━━━━━━━━━━┓\n",
              "┃<span style=\"font-weight: bold\"> #  </span>┃<span style=\"font-weight: bold\"> Question </span>┃<span style=\"font-weight: bold\"> Points </span>┃<span style=\"font-weight: bold\"> Timeout   </span>┃<span style=\"font-weight: bold\"> Attempts </span>┃<span style=\"font-weight: bold\"> Prerequisites </span>┃\n",
              "┡━━━━╇━━━━━━━━━━╇━━━━━━━━╇━━━━━━━━━━━╇━━━━━━━━━━╇━━━━━━━━━━━━━━━┩\n",
              "│ 91 │ quiz3.07 │ 1      │ Not Timed │ 1        │ NONE          │\n",
              "└────┴──────────┴────────┴───────────┴──────────┴───────────────┘\n",
              "</pre>\n"
            ]
          },
          "metadata": {}
        },
        {
          "output_type": "display_data",
          "data": {
            "text/plain": [
              "TEXT:\n",
              "Which of these keywords can improve the readability of multiple if statements?\n",
              "\n",
              "Enter \u001b[32m\"print\u001b[0m\u001b[32m(\u001b[0m\u001b[32md.data\u001b[0m\u001b[32m(\u001b[0m\u001b[32m'Quiz3.07'\u001b[0m\u001b[32m)\u001b[0m\u001b[32m)\u001b[0m\u001b[32m\"\u001b[0m to view the choices. Submit the integer next to the correct choice. For example: \n",
              "\u001b[32m'd.answer\u001b[0m\u001b[32m(\u001b[0m\u001b[32m1\u001b[0m\u001b[32m)\u001b[0m\u001b[32m'\u001b[0m\n"
            ],
            "text/html": [
              "<pre style=\"white-space:pre;overflow-x:auto;line-height:normal;font-family:Menlo,'DejaVu Sans Mono',consolas,'Courier New',monospace\">TEXT:\n",
              "Which of these keywords can improve the readability of multiple if statements?\n",
              "\n",
              "Enter <span style=\"color: #008000; text-decoration-color: #008000\">\"print(d.data('Quiz3.07'))\"</span> to view the choices. Submit the integer next to the correct choice. For example: \n",
              "<span style=\"color: #008000; text-decoration-color: #008000\">'d.answer(1)'</span>\n",
              "</pre>\n"
            ]
          },
          "metadata": {}
        },
        {
          "output_type": "stream",
          "name": "stdout",
          "text": [
            "0) match\n",
            "1) switch and case\n",
            "2) match and case\n",
            "3) case\n"
          ]
        }
      ]
    },
    {
      "cell_type": "code",
      "source": [
        "d.answer(0)"
      ],
      "metadata": {
        "id": "mGqC2or95spQ",
        "outputId": "ca64b257-afcb-4440-cdae-f3d8d6b247e0",
        "colab": {
          "base_uri": "https://localhost:8080/",
          "height": 36
        }
      },
      "execution_count": 40,
      "outputs": [
        {
          "output_type": "execute_result",
          "data": {
            "text/plain": [
              "'Incorrect'"
            ],
            "application/vnd.google.colaboratory.intrinsic+json": {
              "type": "string"
            }
          },
          "metadata": {},
          "execution_count": 40
        }
      ]
    },
    {
      "cell_type": "code",
      "source": [
        "qname = \"quiz3.08\"\n",
        "d.question(qname)\n",
        "print(d.data(qname))"
      ],
      "metadata": {
        "id": "QF8jlKo654cI",
        "outputId": "f737baf3-ce8b-4288-f759-8cb8b68ed530",
        "colab": {
          "base_uri": "https://localhost:8080/",
          "height": 391
        }
      },
      "execution_count": 41,
      "outputs": [
        {
          "output_type": "display_data",
          "data": {
            "text/plain": [
              "┏━━━━┳━━━━━━━━━━┳━━━━━━━━┳━━━━━━━━━━━┳━━━━━━━━━━┳━━━━━━━━━━━━━━━┓\n",
              "┃\u001b[1m \u001b[0m\u001b[1m# \u001b[0m\u001b[1m \u001b[0m┃\u001b[1m \u001b[0m\u001b[1mQuestion\u001b[0m\u001b[1m \u001b[0m┃\u001b[1m \u001b[0m\u001b[1mPoints\u001b[0m\u001b[1m \u001b[0m┃\u001b[1m \u001b[0m\u001b[1mTimeout  \u001b[0m\u001b[1m \u001b[0m┃\u001b[1m \u001b[0m\u001b[1mAttempts\u001b[0m\u001b[1m \u001b[0m┃\u001b[1m \u001b[0m\u001b[1mPrerequisites\u001b[0m\u001b[1m \u001b[0m┃\n",
              "┡━━━━╇━━━━━━━━━━╇━━━━━━━━╇━━━━━━━━━━━╇━━━━━━━━━━╇━━━━━━━━━━━━━━━┩\n",
              "│ 92 │ quiz3.08 │ 1      │ Not Timed │ 1        │ NONE          │\n",
              "└────┴──────────┴────────┴───────────┴──────────┴───────────────┘\n"
            ],
            "text/html": [
              "<pre style=\"white-space:pre;overflow-x:auto;line-height:normal;font-family:Menlo,'DejaVu Sans Mono',consolas,'Courier New',monospace\">┏━━━━┳━━━━━━━━━━┳━━━━━━━━┳━━━━━━━━━━━┳━━━━━━━━━━┳━━━━━━━━━━━━━━━┓\n",
              "┃<span style=\"font-weight: bold\"> #  </span>┃<span style=\"font-weight: bold\"> Question </span>┃<span style=\"font-weight: bold\"> Points </span>┃<span style=\"font-weight: bold\"> Timeout   </span>┃<span style=\"font-weight: bold\"> Attempts </span>┃<span style=\"font-weight: bold\"> Prerequisites </span>┃\n",
              "┡━━━━╇━━━━━━━━━━╇━━━━━━━━╇━━━━━━━━━━━╇━━━━━━━━━━╇━━━━━━━━━━━━━━━┩\n",
              "│ 92 │ quiz3.08 │ 1      │ Not Timed │ 1        │ NONE          │\n",
              "└────┴──────────┴────────┴───────────┴──────────┴───────────────┘\n",
              "</pre>\n"
            ]
          },
          "metadata": {}
        },
        {
          "output_type": "display_data",
          "data": {
            "text/plain": [
              "TEXT:\n",
              "Which of these is not used for program flow control?\n",
              "\n",
              "Enter \u001b[32m\"print\u001b[0m\u001b[32m(\u001b[0m\u001b[32md.data\u001b[0m\u001b[32m(\u001b[0m\u001b[32m'Quiz3.08'\u001b[0m\u001b[32m)\u001b[0m\u001b[32m)\u001b[0m\u001b[32m\"\u001b[0m to view the choices. Submit the integer next to the correct choice. For example: \n",
              "\u001b[32m'd.answer\u001b[0m\u001b[32m(\u001b[0m\u001b[32m1\u001b[0m\u001b[32m)\u001b[0m\u001b[32m'\u001b[0m\n"
            ],
            "text/html": [
              "<pre style=\"white-space:pre;overflow-x:auto;line-height:normal;font-family:Menlo,'DejaVu Sans Mono',consolas,'Courier New',monospace\">TEXT:\n",
              "Which of these is not used for program flow control?\n",
              "\n",
              "Enter <span style=\"color: #008000; text-decoration-color: #008000\">\"print(d.data('Quiz3.08'))\"</span> to view the choices. Submit the integer next to the correct choice. For example: \n",
              "<span style=\"color: #008000; text-decoration-color: #008000\">'d.answer(1)'</span>\n",
              "</pre>\n"
            ]
          },
          "metadata": {}
        },
        {
          "output_type": "stream",
          "name": "stdout",
          "text": [
            "0) branch\n",
            "1) while\n",
            "2) continue\n",
            "3) break\n",
            "4) match\n",
            "5) if\n",
            "6) case\n",
            "7) elif\n",
            "8) else\n",
            "9) pass\n",
            "10) for\n"
          ]
        }
      ]
    },
    {
      "cell_type": "code",
      "source": [
        "d.answer(0)"
      ],
      "metadata": {
        "id": "OmmAZqW36dxD",
        "outputId": "6ae4ed8c-2b2d-42ec-d80b-c00178564d9e",
        "colab": {
          "base_uri": "https://localhost:8080/",
          "height": 36
        }
      },
      "execution_count": 42,
      "outputs": [
        {
          "output_type": "execute_result",
          "data": {
            "text/plain": [
              "'Correct!'"
            ],
            "application/vnd.google.colaboratory.intrinsic+json": {
              "type": "string"
            }
          },
          "metadata": {},
          "execution_count": 42
        }
      ]
    },
    {
      "cell_type": "code",
      "source": [
        "qname = \"quiz3.09\"\n",
        "d.question(qname)\n",
        "print(d.data(qname))"
      ],
      "metadata": {
        "id": "oq-lvGOu6fbr",
        "outputId": "6db192bd-8dd6-4249-f04c-6cd98c4c26cd",
        "colab": {
          "base_uri": "https://localhost:8080/",
          "height": 319
        }
      },
      "execution_count": 43,
      "outputs": [
        {
          "output_type": "display_data",
          "data": {
            "text/plain": [
              "┏━━━━┳━━━━━━━━━━┳━━━━━━━━┳━━━━━━━━━━━┳━━━━━━━━━━┳━━━━━━━━━━━━━━━┓\n",
              "┃\u001b[1m \u001b[0m\u001b[1m# \u001b[0m\u001b[1m \u001b[0m┃\u001b[1m \u001b[0m\u001b[1mQuestion\u001b[0m\u001b[1m \u001b[0m┃\u001b[1m \u001b[0m\u001b[1mPoints\u001b[0m\u001b[1m \u001b[0m┃\u001b[1m \u001b[0m\u001b[1mTimeout  \u001b[0m\u001b[1m \u001b[0m┃\u001b[1m \u001b[0m\u001b[1mAttempts\u001b[0m\u001b[1m \u001b[0m┃\u001b[1m \u001b[0m\u001b[1mPrerequisites\u001b[0m\u001b[1m \u001b[0m┃\n",
              "┡━━━━╇━━━━━━━━━━╇━━━━━━━━╇━━━━━━━━━━━╇━━━━━━━━━━╇━━━━━━━━━━━━━━━┩\n",
              "│ 93 │ quiz3.09 │ 1      │ Not Timed │ 1        │ NONE          │\n",
              "└────┴──────────┴────────┴───────────┴──────────┴───────────────┘\n"
            ],
            "text/html": [
              "<pre style=\"white-space:pre;overflow-x:auto;line-height:normal;font-family:Menlo,'DejaVu Sans Mono',consolas,'Courier New',monospace\">┏━━━━┳━━━━━━━━━━┳━━━━━━━━┳━━━━━━━━━━━┳━━━━━━━━━━┳━━━━━━━━━━━━━━━┓\n",
              "┃<span style=\"font-weight: bold\"> #  </span>┃<span style=\"font-weight: bold\"> Question </span>┃<span style=\"font-weight: bold\"> Points </span>┃<span style=\"font-weight: bold\"> Timeout   </span>┃<span style=\"font-weight: bold\"> Attempts </span>┃<span style=\"font-weight: bold\"> Prerequisites </span>┃\n",
              "┡━━━━╇━━━━━━━━━━╇━━━━━━━━╇━━━━━━━━━━━╇━━━━━━━━━━╇━━━━━━━━━━━━━━━┩\n",
              "│ 93 │ quiz3.09 │ 1      │ Not Timed │ 1        │ NONE          │\n",
              "└────┴──────────┴────────┴───────────┴──────────┴───────────────┘\n",
              "</pre>\n"
            ]
          },
          "metadata": {}
        },
        {
          "output_type": "display_data",
          "data": {
            "text/plain": [
              "TEXT:\n",
              "What is the purpose of the keyword \u001b[32m'pass'\u001b[0m?\n",
              "\n",
              "Enter \u001b[32m\"print\u001b[0m\u001b[32m(\u001b[0m\u001b[32md.data\u001b[0m\u001b[32m(\u001b[0m\u001b[32m'Quiz3.09'\u001b[0m\u001b[32m)\u001b[0m\u001b[32m)\u001b[0m\u001b[32m\"\u001b[0m to view the choices. Submit the integer next to the correct choice. For example: \n",
              "\u001b[32m'd.answer\u001b[0m\u001b[32m(\u001b[0m\u001b[32m1\u001b[0m\u001b[32m)\u001b[0m\u001b[32m'\u001b[0m\n"
            ],
            "text/html": [
              "<pre style=\"white-space:pre;overflow-x:auto;line-height:normal;font-family:Menlo,'DejaVu Sans Mono',consolas,'Courier New',monospace\">TEXT:\n",
              "What is the purpose of the keyword <span style=\"color: #008000; text-decoration-color: #008000\">'pass'</span>?\n",
              "\n",
              "Enter <span style=\"color: #008000; text-decoration-color: #008000\">\"print(d.data('Quiz3.09'))\"</span> to view the choices. Submit the integer next to the correct choice. For example: \n",
              "<span style=\"color: #008000; text-decoration-color: #008000\">'d.answer(1)'</span>\n",
              "</pre>\n"
            ]
          },
          "metadata": {}
        },
        {
          "output_type": "stream",
          "name": "stdout",
          "text": [
            "0) To force a test to fail\n",
            "1) To do nothing\n",
            "2) To force a test to succeed\n",
            "3) To skip a case in a switch statement\n",
            "4) To break out of a loop\n",
            "5) To skip a case in a match statement\n",
            "6) To continue to the next iteration of a loop\n"
          ]
        }
      ]
    },
    {
      "cell_type": "code",
      "source": [
        "d.answer(1)"
      ],
      "metadata": {
        "id": "c_WZgyaR6qzJ",
        "outputId": "840c3c4c-0eb9-4b72-a511-956ea5987290",
        "colab": {
          "base_uri": "https://localhost:8080/",
          "height": 36
        }
      },
      "execution_count": 44,
      "outputs": [
        {
          "output_type": "execute_result",
          "data": {
            "text/plain": [
              "'Correct!'"
            ],
            "application/vnd.google.colaboratory.intrinsic+json": {
              "type": "string"
            }
          },
          "metadata": {},
          "execution_count": 44
        }
      ]
    },
    {
      "cell_type": "code",
      "execution_count": null,
      "metadata": {
        "id": "JlOtXN3LONEy"
      },
      "outputs": [],
      "source": [
        "#Ask for the question and data together to avoid confusion.\n",
        "qname = \"quiz???\"\n",
        "d.question(qname)\n",
        "print(d.data(qname))"
      ]
    },
    {
      "cell_type": "code",
      "source": [],
      "metadata": {
        "id": "Pi9SsExt5SS6"
      },
      "execution_count": null,
      "outputs": []
    },
    {
      "cell_type": "markdown",
      "metadata": {
        "id": "5-1r_OoSuz5k"
      },
      "source": [
        "Carefully consider your answer. Remember, you get one attempt per question. When you are ready submit your answer.\n",
        "\n",
        "Note: the next cell is commented out so that you do not accidentally run it.  "
      ]
    },
    {
      "cell_type": "code",
      "execution_count": null,
      "metadata": {
        "id": "RfyRoJcluz5k"
      },
      "outputs": [],
      "source": [
        "#d.answer( your answer here )"
      ]
    },
    {
      "cell_type": "code",
      "source": [
        "d.score()"
      ],
      "metadata": {
        "id": "R0C_aCMu68SY",
        "outputId": "71e23baa-6aaa-42a7-ae36-908ec9324586",
        "colab": {
          "base_uri": "https://localhost:8080/",
          "height": 116
        }
      },
      "execution_count": 45,
      "outputs": [
        {
          "output_type": "display_data",
          "data": {
            "text/plain": [
              "\u001b[3m                                            Scoreboard                                            \u001b[0m\n",
              "┏━━━━━━┳━━━━━━━┳━━━━━━━┳━━━━━━━━━━━━━━━━━┳━━━━━━━━━━━━━━━━━━━━━━━━━━━━━━━━━━━━━━━━━━━━━━━━━━━━━━━┓\n",
              "┃\u001b[1m \u001b[0m\u001b[1mRank\u001b[0m\u001b[1m \u001b[0m┃\u001b[1m \u001b[0m\u001b[1mName \u001b[0m\u001b[1m \u001b[0m┃\u001b[1m \u001b[0m\u001b[1mScore\u001b[0m\u001b[1m \u001b[0m┃\u001b[1m \u001b[0m\u001b[1mLast Scored    \u001b[0m\u001b[1m \u001b[0m┃\u001b[1m \u001b[0m\u001b[1mCompleted                                            \u001b[0m\u001b[1m \u001b[0m┃\n",
              "┡━━━━━━╇━━━━━━━╇━━━━━━━╇━━━━━━━━━━━━━━━━━╇━━━━━━━━━━━━━━━━━━━━━━━━━━━━━━━━━━━━━━━━━━━━━━━━━━━━━━━┩\n",
              "│ 001  │ ErikV │ 077   │ May,12 23:54:19 │ 0,2-5,12-13,15-41,44,46-67,71-73,75-85,87-88,90,92-93 │\n",
              "└──────┴───────┴───────┴─────────────────┴───────────────────────────────────────────────────────┘\n"
            ],
            "text/html": [
              "<pre style=\"white-space:pre;overflow-x:auto;line-height:normal;font-family:Menlo,'DejaVu Sans Mono',consolas,'Courier New',monospace\"><span style=\"font-style: italic\">                                            Scoreboard                                            </span>\n",
              "┏━━━━━━┳━━━━━━━┳━━━━━━━┳━━━━━━━━━━━━━━━━━┳━━━━━━━━━━━━━━━━━━━━━━━━━━━━━━━━━━━━━━━━━━━━━━━━━━━━━━━┓\n",
              "┃<span style=\"font-weight: bold\"> Rank </span>┃<span style=\"font-weight: bold\"> Name  </span>┃<span style=\"font-weight: bold\"> Score </span>┃<span style=\"font-weight: bold\"> Last Scored     </span>┃<span style=\"font-weight: bold\"> Completed                                             </span>┃\n",
              "┡━━━━━━╇━━━━━━━╇━━━━━━━╇━━━━━━━━━━━━━━━━━╇━━━━━━━━━━━━━━━━━━━━━━━━━━━━━━━━━━━━━━━━━━━━━━━━━━━━━━━┩\n",
              "│ 001  │ ErikV │ 077   │ May,12 23:54:19 │ 0,2-5,12-13,15-41,44,46-67,71-73,75-85,87-88,90,92-93 │\n",
              "└──────┴───────┴───────┴─────────────────┴───────────────────────────────────────────────────────┘\n",
              "</pre>\n"
            ]
          },
          "metadata": {}
        }
      ]
    },
    {
      "cell_type": "code",
      "source": [],
      "metadata": {
        "id": "xhVuT0Ja69dQ"
      },
      "execution_count": null,
      "outputs": []
    }
  ],
  "metadata": {
    "colab": {
      "provenance": []
    },
    "kernelspec": {
      "display_name": "Python 3",
      "name": "python3"
    },
    "language_info": {
      "name": "python"
    }
  },
  "nbformat": 4,
  "nbformat_minor": 0
}
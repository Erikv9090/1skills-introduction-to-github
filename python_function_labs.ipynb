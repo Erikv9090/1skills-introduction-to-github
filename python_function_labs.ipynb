{
  "cells": [
    {
      "cell_type": "markdown",
      "metadata": {
        "id": "Y7LbGkJgPwQI"
      },
      "source": [
        "The content of the following cell install the pywars client into this notebook. It must be executed once during the lifetime of a notebooks execution.  If you save and reopen the notebook you will need to execute again, but otherwise you only need to run it once."
      ]
    },
    {
      "cell_type": "code",
      "execution_count": 3,
      "metadata": {
        "id": "WCYPuBQal45D",
        "colab": {
          "base_uri": "https://localhost:8080/"
        },
        "outputId": "729d16ad-440c-4df2-c52c-2ab6c428d374"
      },
      "outputs": [
        {
          "output_type": "stream",
          "name": "stdout",
          "text": [
            "fatal: destination path 'pyWars' already exists and is not an empty directory.\n",
            "Processing ./pyWars\n",
            "  Installing build dependencies ... \u001b[?25l\u001b[?25hcanceled\n",
            "Traceback (most recent call last):\n",
            "  File \"/usr/local/lib/python3.11/dist-packages/pip/_internal/cli/base_command.py\", line 179, in exc_logging_wrapper\n",
            "    status = run_func(*args)\n",
            "             ^^^^^^^^^^^^^^^\n",
            "  File \"/usr/local/lib/python3.11/dist-packages/pip/_internal/cli/req_command.py\", line 67, in wrapper\n",
            "    return func(self, options, args)\n",
            "           ^^^^^^^^^^^^^^^^^^^^^^^^^\n",
            "  File \"/usr/local/lib/python3.11/dist-packages/pip/_internal/commands/install.py\", line 377, in run\n",
            "    requirement_set = resolver.resolve(\n",
            "                      ^^^^^^^^^^^^^^^^^\n",
            "  File \"/usr/local/lib/python3.11/dist-packages/pip/_internal/resolution/resolvelib/resolver.py\", line 76, in resolve\n",
            "    collected = self.factory.collect_root_requirements(root_reqs)\n",
            "                ^^^^^^^^^^^^^^^^^^^^^^^^^^^^^^^^^^^^^^^^^^^^^^^^^\n",
            "  File \"/usr/local/lib/python3.11/dist-packages/pip/_internal/resolution/resolvelib/factory.py\", line 538, in collect_root_requirements\n",
            "    reqs = list(\n",
            "           ^^^^^\n",
            "  File \"/usr/local/lib/python3.11/dist-packages/pip/_internal/resolution/resolvelib/factory.py\", line 494, in _make_requirements_from_install_req\n",
            "    cand = self._make_base_candidate_from_link(\n",
            "           ^^^^^^^^^^^^^^^^^^^^^^^^^^^^^^^^^^^^\n",
            "  File \"/usr/local/lib/python3.11/dist-packages/pip/_internal/resolution/resolvelib/factory.py\", line 231, in _make_base_candidate_from_link\n",
            "    self._link_candidate_cache[link] = LinkCandidate(\n",
            "                                       ^^^^^^^^^^^^^^\n",
            "  File \"/usr/local/lib/python3.11/dist-packages/pip/_internal/resolution/resolvelib/candidates.py\", line 303, in __init__\n",
            "    super().__init__(\n",
            "  File \"/usr/local/lib/python3.11/dist-packages/pip/_internal/resolution/resolvelib/candidates.py\", line 158, in __init__\n",
            "    self.dist = self._prepare()\n",
            "                ^^^^^^^^^^^^^^^\n",
            "  File \"/usr/local/lib/python3.11/dist-packages/pip/_internal/resolution/resolvelib/candidates.py\", line 235, in _prepare\n",
            "    dist = self._prepare_distribution()\n",
            "           ^^^^^^^^^^^^^^^^^^^^^^^^^^^^\n",
            "  File \"/usr/local/lib/python3.11/dist-packages/pip/_internal/resolution/resolvelib/candidates.py\", line 314, in _prepare_distribution\n",
            "    return preparer.prepare_linked_requirement(self._ireq, parallel_builds=True)\n",
            "           ^^^^^^^^^^^^^^^^^^^^^^^^^^^^^^^^^^^^^^^^^^^^^^^^^^^^^^^^^^^^^^^^^^^^^\n",
            "  File \"/usr/local/lib/python3.11/dist-packages/pip/_internal/operations/prepare.py\", line 527, in prepare_linked_requirement\n",
            "    return self._prepare_linked_requirement(req, parallel_builds)\n",
            "           ^^^^^^^^^^^^^^^^^^^^^^^^^^^^^^^^^^^^^^^^^^^^^^^^^^^^^^\n",
            "  File \"/usr/local/lib/python3.11/dist-packages/pip/_internal/operations/prepare.py\", line 642, in _prepare_linked_requirement\n",
            "    dist = _get_prepared_distribution(\n",
            "           ^^^^^^^^^^^^^^^^^^^^^^^^^^^\n",
            "  File \"/usr/local/lib/python3.11/dist-packages/pip/_internal/operations/prepare.py\", line 72, in _get_prepared_distribution\n",
            "    abstract_dist.prepare_distribution_metadata(\n",
            "  File \"/usr/local/lib/python3.11/dist-packages/pip/_internal/distributions/sdist.py\", line 46, in prepare_distribution_metadata\n",
            "    self._prepare_build_backend(finder)\n",
            "  File \"/usr/local/lib/python3.11/dist-packages/pip/_internal/distributions/sdist.py\", line 78, in _prepare_build_backend\n",
            "    self.req.build_env.install_requirements(\n",
            "  File \"/usr/local/lib/python3.11/dist-packages/pip/_internal/build_env.py\", line 218, in install_requirements\n",
            "    self._install_requirements(\n",
            "  File \"/usr/local/lib/python3.11/dist-packages/pip/_internal/build_env.py\", line 278, in _install_requirements\n",
            "    call_subprocess(\n",
            "  File \"/usr/local/lib/python3.11/dist-packages/pip/_internal/utils/subprocess.py\", line 151, in call_subprocess\n",
            "    line: str = proc.stdout.readline()\n",
            "                ^^^^^^^^^^^^^^^^^^^^^^\n",
            "KeyboardInterrupt\n",
            "\n",
            "During handling of the above exception, another exception occurred:\n",
            "\n",
            "Traceback (most recent call last):\n",
            "  File \"/usr/local/bin/pip3\", line 10, in <module>\n",
            "    sys.exit(main())\n",
            "             ^^^^^^\n",
            "  File \"/usr/local/lib/python3.11/dist-packages/pip/_internal/cli/main.py\", line 80, in main\n",
            "    return command.main(cmd_args)\n",
            "           ^^^^^^^^^^^^^^^^^^^^^^\n",
            "  File \"/usr/local/lib/python3.11/dist-packages/pip/_internal/cli/base_command.py\", line 100, in main\n",
            "    return self._main(args)\n",
            "           ^^^^^^^^^^^^^^^^\n",
            "  File \"/usr/local/lib/python3.11/dist-packages/pip/_internal/cli/base_command.py\", line 232, in _main\n",
            "    return run(options, args)\n",
            "           ^^^^^^^^^^^^^^^^^^\n",
            "  File \"/usr/local/lib/python3.11/dist-packages/pip/_internal/cli/base_command.py\", line 215, in exc_logging_wrapper\n",
            "    logger.critical(\"Operation cancelled by user\")\n",
            "  File \"/usr/lib/python3.11/logging/__init__.py\", line 1536, in critical\n",
            "    self._log(CRITICAL, msg, args, **kwargs)\n",
            "  File \"/usr/lib/python3.11/logging/__init__.py\", line 1634, in _log\n",
            "    self.handle(record)\n",
            "  File \"/usr/lib/python3.11/logging/__init__.py\", line 1644, in handle\n",
            "    self.callHandlers(record)\n",
            "  File \"/usr/lib/python3.11/logging/__init__.py\", line 1706, in callHandlers\n",
            "    hdlr.handle(record)\n",
            "  File \"/usr/lib/python3.11/logging/__init__.py\", line 978, in handle\n",
            "    self.emit(record)\n",
            "  File \"/usr/local/lib/python3.11/dist-packages/pip/_internal/utils/logging.py\", line 177, in emit\n",
            "    self.console.print(renderable, overflow=\"ignore\", crop=False, style=style)\n",
            "  File \"/usr/local/lib/python3.11/dist-packages/pip/_vendor/rich/console.py\", line 1705, in print\n",
            "    render(renderable, render_options), self.get_style(style)\n",
            "                                        ^^^^^^^^^^^^^^^^^^^^^\n",
            "  File \"/usr/local/lib/python3.11/dist-packages/pip/_vendor/rich/console.py\", line 1456, in get_style\n",
            "    def get_style(\n",
            "\n",
            "KeyboardInterrupt\n",
            "^C\n",
            "Drive already mounted at /content/drive; to attempt to forcibly remount, call drive.mount(\"/content/drive\", force_remount=True).\n"
          ]
        }
      ],
      "source": [
        "#Import and/or install the pywars client\n",
        "!git clone --branch version5 https://github.com/markbaggett/pyWars\n",
        "!pip install ./pyWars\n",
        "\n",
        "#Mount the google drive in colab\n",
        "from google.colab import drive\n",
        "drive.mount('/content/drive')\n"
      ]
    },
    {
      "cell_type": "markdown",
      "metadata": {
        "id": "V9zGApf2QOZD"
      },
      "source": [
        "This next command must be run once to configure your pyWars server and to login.  Be sure to put your username and password in the .login() function.  Before running this you must change the contents of the three variables below to reflect the account information provided by SANS.\n"
      ]
    },
    {
      "cell_type": "code",
      "execution_count": 4,
      "metadata": {
        "id": "zeiJWbS0N5Ih",
        "colab": {
          "base_uri": "https://localhost:8080/",
          "height": 36
        },
        "outputId": "a5b5961d-5fd6-4b4f-e865-2a289fc6cec9"
      },
      "outputs": [
        {
          "output_type": "execute_result",
          "data": {
            "text/plain": [
              "'Login Success'"
            ],
            "application/vnd.google.colaboratory.intrinsic+json": {
              "type": "string"
            }
          },
          "metadata": {},
          "execution_count": 4
        }
      ],
      "source": [
        "#Set the following three variables and execute this cell\n",
        "HOSTNAME = 'python.sans.edu'\n",
        "USERNAME = 'pywars_login_8368'\n",
        "PASSWORD = 'AzC75SHcp3qLXhqhOLIO'\n",
        "\n",
        "#This will create your pywars client object and store in the variable d\n",
        "import pywars\n",
        "d = pywars.Client(f\"https://{HOSTNAME}:10000\")\n",
        "d.file_location=\"/content/drive/MyDrive\"\n",
        "d.login(USERNAME,PASSWORD)\n"
      ]
    },
    {
      "cell_type": "markdown",
      "metadata": {
        "id": "hHy7Bv4HsIkK"
      },
      "source": [
        "In this lab, you will complete all of the labs that have \"function\" in the name.  The next cell uses a for loop to print just those with \"function\" in the name. Run it to see a list of all of the challenge you must complete."
      ]
    },
    {
      "cell_type": "code",
      "execution_count": 5,
      "metadata": {
        "id": "Iea43FE9Q8BN",
        "colab": {
          "base_uri": "https://localhost:8080/"
        },
        "outputId": "307430d6-d65b-4a69-b715-bc52feea234a"
      },
      "outputs": [
        {
          "output_type": "stream",
          "name": "stdout",
          "text": [
            "You must complete #94 function-add\n",
            "You must complete #95 function-num-spaces\n",
            "You must complete #96 function-subtract-letters\n",
            "You must complete #97 function-adlib\n",
            "You must complete #98 function-undomino\n",
            "You must complete #99 function-type-check\n",
            "You must complete #100 function-talking-about\n",
            "You must complete #101 function-calculator\n"
          ]
        }
      ],
      "source": [
        "for each_num, each_name in enumerate(d.names):\n",
        "    if each_name.startswith(\"function\"):\n",
        "        print(f\"You must complete #{each_num} {each_name}\")"
      ]
    },
    {
      "cell_type": "markdown",
      "metadata": {
        "id": "pERBCj5_sIkL"
      },
      "source": [
        "These labs are different than the `string`, `math` and `problem-solving` labs. Each of these questions will drop an incomplete Python program in your MyDrive folder."
      ]
    },
    {
      "cell_type": "code",
      "execution_count": 6,
      "metadata": {
        "id": "JlOtXN3LONEy",
        "colab": {
          "base_uri": "https://localhost:8080/",
          "height": 239
        },
        "outputId": "f14979b3-b0c7-48a8-cff0-88119a0caa3d"
      },
      "outputs": [
        {
          "output_type": "display_data",
          "data": {
            "text/plain": [
              "\u001b[1;31mFolder download skipped because the folder already exists. Call \u001b[0m\u001b[1;31m.attachment\u001b[0m\u001b[1;31m(\u001b[0m\u001b[1;31m'labname'\u001b[0m\u001b[1;31m,\u001b[0m\u001b[1;31moverwrite\u001b[0m\u001b[1;31m=\u001b[0m\u001b[1;3;31mTrue\u001b[0m\u001b[1;31m)\u001b[0m\u001b[1;31m to redownload\u001b[0m\n",
              "\u001b[1;31mand overwrite the exiting folder.\u001b[0m\n"
            ],
            "text/html": [
              "<pre style=\"white-space:pre;overflow-x:auto;line-height:normal;font-family:Menlo,'DejaVu Sans Mono',consolas,'Courier New',monospace\"><span style=\"color: #800000; text-decoration-color: #800000; font-weight: bold\">Folder download skipped because the folder already exists. Call .attachment(</span><span style=\"color: #800000; text-decoration-color: #800000; font-weight: bold\">'labname'</span><span style=\"color: #800000; text-decoration-color: #800000; font-weight: bold\">,</span><span style=\"color: #800000; text-decoration-color: #800000; font-weight: bold\">overwrite</span><span style=\"color: #800000; text-decoration-color: #800000; font-weight: bold\">=</span><span style=\"color: #800000; text-decoration-color: #800000; font-weight: bold; font-style: italic\">True</span><span style=\"color: #800000; text-decoration-color: #800000; font-weight: bold\">) to redownload</span>\n",
              "<span style=\"color: #800000; text-decoration-color: #800000; font-weight: bold\">and overwrite the exiting folder.</span>\n",
              "</pre>\n"
            ]
          },
          "metadata": {}
        },
        {
          "output_type": "display_data",
          "data": {
            "text/plain": [
              "┏━━━━┳━━━━━━━━━━━━━━┳━━━━━━━━┳━━━━━━━━━┳━━━━━━━━━━━┳━━━━━━━━━━━━━━━┓\n",
              "┃\u001b[1m \u001b[0m\u001b[1m# \u001b[0m\u001b[1m \u001b[0m┃\u001b[1m \u001b[0m\u001b[1mQuestion    \u001b[0m\u001b[1m \u001b[0m┃\u001b[1m \u001b[0m\u001b[1mPoints\u001b[0m\u001b[1m \u001b[0m┃\u001b[1m \u001b[0m\u001b[1mTimeout\u001b[0m\u001b[1m \u001b[0m┃\u001b[1m \u001b[0m\u001b[1mAttempts \u001b[0m\u001b[1m \u001b[0m┃\u001b[1m \u001b[0m\u001b[1mPrerequisites\u001b[0m\u001b[1m \u001b[0m┃\n",
              "┡━━━━╇━━━━━━━━━━━━━━╇━━━━━━━━╇━━━━━━━━━╇━━━━━━━━━━━╇━━━━━━━━━━━━━━━┩\n",
              "│ 94 │ function-add │ 2      │ 15      │ UNLIMITED │ NONE          │\n",
              "└────┴──────────────┴────────┴─────────┴───────────┴───────────────┘\n"
            ],
            "text/html": [
              "<pre style=\"white-space:pre;overflow-x:auto;line-height:normal;font-family:Menlo,'DejaVu Sans Mono',consolas,'Courier New',monospace\">┏━━━━┳━━━━━━━━━━━━━━┳━━━━━━━━┳━━━━━━━━━┳━━━━━━━━━━━┳━━━━━━━━━━━━━━━┓\n",
              "┃<span style=\"font-weight: bold\"> #  </span>┃<span style=\"font-weight: bold\"> Question     </span>┃<span style=\"font-weight: bold\"> Points </span>┃<span style=\"font-weight: bold\"> Timeout </span>┃<span style=\"font-weight: bold\"> Attempts  </span>┃<span style=\"font-weight: bold\"> Prerequisites </span>┃\n",
              "┡━━━━╇━━━━━━━━━━━━━━╇━━━━━━━━╇━━━━━━━━━╇━━━━━━━━━━━╇━━━━━━━━━━━━━━━┩\n",
              "│ 94 │ function-add │ 2      │ 15      │ UNLIMITED │ NONE          │\n",
              "└────┴──────────────┴────────┴─────────┴───────────┴───────────────┘\n",
              "</pre>\n"
            ]
          },
          "metadata": {}
        },
        {
          "output_type": "display_data",
          "data": {
            "text/plain": [
              "TEXT:\n",
              "A folder has been extracted to the folder specified in the .file_location attribute. The .file_location attribute \n",
              "is set to your Desktop by default. Follow the instructions in extracted \u001b[32m'README.md'\u001b[0m to develop the solution. Use \n",
              "\u001b[1;35m.solution\u001b[0m\u001b[1m(\u001b[0m\u001b[1m)\u001b[0m to submit your code. The \u001b[1;35m.solution\u001b[0m\u001b[1m(\u001b[0m\u001b[1m)\u001b[0m method will accept an absolute path to a file or a directory as \n",
              "its only argument.\n"
            ],
            "text/html": [
              "<pre style=\"white-space:pre;overflow-x:auto;line-height:normal;font-family:Menlo,'DejaVu Sans Mono',consolas,'Courier New',monospace\">TEXT:\n",
              "A folder has been extracted to the folder specified in the .file_location attribute. The .file_location attribute \n",
              "is set to your Desktop by default. Follow the instructions in extracted <span style=\"color: #008000; text-decoration-color: #008000\">'README.md'</span> to develop the solution. Use \n",
              "<span style=\"color: #800080; text-decoration-color: #800080; font-weight: bold\">.solution</span><span style=\"font-weight: bold\">()</span> to submit your code. The <span style=\"color: #800080; text-decoration-color: #800080; font-weight: bold\">.solution</span><span style=\"font-weight: bold\">()</span> method will accept an absolute path to a file or a directory as \n",
              "its only argument.\n",
              "</pre>\n"
            ]
          },
          "metadata": {}
        }
      ],
      "source": [
        "#Ask for the question to get the folder.\n",
        "d.question(94)"
      ]
    },
    {
      "cell_type": "code",
      "execution_count": 7,
      "metadata": {
        "colab": {
          "base_uri": "https://localhost:8080/",
          "height": 36
        },
        "id": "HvAowimCsIkL",
        "outputId": "2f384186-b3eb-4257-9f88-a5d4091c5d4f"
      },
      "outputs": [
        {
          "output_type": "execute_result",
          "data": {
            "text/plain": [
              "'This challenge does not have any data'"
            ],
            "application/vnd.google.colaboratory.intrinsic+json": {
              "type": "string"
            }
          },
          "metadata": {},
          "execution_count": 7
        }
      ],
      "source": [
        "#Ask for the data.  There probably isn't any but it doesn't hurt to ask.\n",
        "#Also asking for the data tells the server which question you are working on.\n",
        "d.data(94)"
      ]
    },
    {
      "cell_type": "markdown",
      "metadata": {
        "id": "DYfVQ5r0sIkL"
      },
      "source": [
        "Now you are ready to open the README.md file in the new folder in your Google Drive. Follow the instructions in that file to complete the lab. Use a cell in this notebook to experiment with your function. Create the function here and test it. Once you have it working, place it in the file as outlined in the README.md. For example, here I created and tested a function that subtracts two numbers."
      ]
    },
    {
      "cell_type": "code",
      "execution_count": 24,
      "metadata": {
        "colab": {
          "base_uri": "https://localhost:8080/"
        },
        "id": "AjdJoqDdsIkL",
        "outputId": "05eb68c6-abca-44de-bc84-a3b53a949255"
      },
      "outputs": [
        {
          "output_type": "stream",
          "name": "stdout",
          "text": [
            "hello world\n"
          ]
        }
      ],
      "source": [
        "#define your function\n",
        "def add(a,b):\n",
        "    return a+b\n",
        "\n",
        "#Test your function\n",
        "print(add(\"hello \", 'world'))"
      ]
    },
    {
      "cell_type": "code",
      "source": [],
      "metadata": {
        "id": "yHywNxZjvK8F"
      },
      "execution_count": null,
      "outputs": []
    },
    {
      "cell_type": "markdown",
      "metadata": {
        "id": "BIhcwfuosIkM"
      },
      "source": [
        "Once you get your function working copy and paste it into solution.py. Then submit your solution using `d.solution()` like shown below."
      ]
    },
    {
      "cell_type": "code",
      "execution_count": 25,
      "metadata": {
        "colab": {
          "base_uri": "https://localhost:8080/",
          "height": 149
        },
        "id": "DGMNu4VKsIkM",
        "outputId": "a3d6b40c-107b-4b4d-acc6-64894a8beee5"
      },
      "outputs": [
        {
          "output_type": "display_data",
          "data": {
            "text/plain": [
              "Correct! \n"
            ],
            "text/html": [
              "<pre style=\"white-space:pre;overflow-x:auto;line-height:normal;font-family:Menlo,'DejaVu Sans Mono',consolas,'Courier New',monospace\">Correct! \n",
              "</pre>\n"
            ]
          },
          "metadata": {}
        },
        {
          "output_type": "display_data",
          "data": {
            "text/plain": [
              "test_program \u001b[1m(\u001b[0mtest.test_add\u001b[1m)\u001b[0m \u001b[33m...\u001b[0m ok\n",
              "\n",
              "----------------------------------------------------------------------\n",
              "Ran \u001b[1;36m1\u001b[0m test in \u001b[1;36m0.\u001b[0m000s\n",
              "\n",
              "OK\n",
              "\n"
            ],
            "text/html": [
              "<pre style=\"white-space:pre;overflow-x:auto;line-height:normal;font-family:Menlo,'DejaVu Sans Mono',consolas,'Courier New',monospace\">test_program <span style=\"font-weight: bold\">(</span>test.test_add<span style=\"font-weight: bold\">)</span> <span style=\"color: #808000; text-decoration-color: #808000\">...</span> ok\n",
              "\n",
              "----------------------------------------------------------------------\n",
              "Ran <span style=\"color: #008080; text-decoration-color: #008080; font-weight: bold\">1</span> test in <span style=\"color: #008080; text-decoration-color: #008080; font-weight: bold\">0.</span>000s\n",
              "\n",
              "OK\n",
              "\n",
              "</pre>\n"
            ]
          },
          "metadata": {}
        }
      ],
      "source": [
        "#Submitting a solution looks like this.  Change the path to the file you want to submit.\n",
        "d.solution(\"/content/drive/MyDrive/function-add/solution.py\")"
      ]
    },
    {
      "cell_type": "code",
      "source": [
        "d.question(95)"
      ],
      "metadata": {
        "colab": {
          "base_uri": "https://localhost:8080/",
          "height": 239
        },
        "id": "HHP8ui5qxGPa",
        "outputId": "c22d80fd-41bb-405d-dfd0-4ae8cca4a774"
      },
      "execution_count": 29,
      "outputs": [
        {
          "output_type": "display_data",
          "data": {
            "text/plain": [
              "\u001b[1;31mFolder download skipped because the folder already exists. Call \u001b[0m\u001b[1;31m.attachment\u001b[0m\u001b[1;31m(\u001b[0m\u001b[1;31m'labname'\u001b[0m\u001b[1;31m,\u001b[0m\u001b[1;31moverwrite\u001b[0m\u001b[1;31m=\u001b[0m\u001b[1;3;31mTrue\u001b[0m\u001b[1;31m)\u001b[0m\u001b[1;31m to redownload\u001b[0m\n",
              "\u001b[1;31mand overwrite the exiting folder.\u001b[0m\n"
            ],
            "text/html": [
              "<pre style=\"white-space:pre;overflow-x:auto;line-height:normal;font-family:Menlo,'DejaVu Sans Mono',consolas,'Courier New',monospace\"><span style=\"color: #800000; text-decoration-color: #800000; font-weight: bold\">Folder download skipped because the folder already exists. Call .attachment(</span><span style=\"color: #800000; text-decoration-color: #800000; font-weight: bold\">'labname'</span><span style=\"color: #800000; text-decoration-color: #800000; font-weight: bold\">,</span><span style=\"color: #800000; text-decoration-color: #800000; font-weight: bold\">overwrite</span><span style=\"color: #800000; text-decoration-color: #800000; font-weight: bold\">=</span><span style=\"color: #800000; text-decoration-color: #800000; font-weight: bold; font-style: italic\">True</span><span style=\"color: #800000; text-decoration-color: #800000; font-weight: bold\">) to redownload</span>\n",
              "<span style=\"color: #800000; text-decoration-color: #800000; font-weight: bold\">and overwrite the exiting folder.</span>\n",
              "</pre>\n"
            ]
          },
          "metadata": {}
        },
        {
          "output_type": "display_data",
          "data": {
            "text/plain": [
              "┏━━━━┳━━━━━━━━━━━━━━━━━━━━━┳━━━━━━━━┳━━━━━━━━━┳━━━━━━━━━━━┳━━━━━━━━━━━━━━━┓\n",
              "┃\u001b[1m \u001b[0m\u001b[1m# \u001b[0m\u001b[1m \u001b[0m┃\u001b[1m \u001b[0m\u001b[1mQuestion           \u001b[0m\u001b[1m \u001b[0m┃\u001b[1m \u001b[0m\u001b[1mPoints\u001b[0m\u001b[1m \u001b[0m┃\u001b[1m \u001b[0m\u001b[1mTimeout\u001b[0m\u001b[1m \u001b[0m┃\u001b[1m \u001b[0m\u001b[1mAttempts \u001b[0m\u001b[1m \u001b[0m┃\u001b[1m \u001b[0m\u001b[1mPrerequisites\u001b[0m\u001b[1m \u001b[0m┃\n",
              "┡━━━━╇━━━━━━━━━━━━━━━━━━━━━╇━━━━━━━━╇━━━━━━━━━╇━━━━━━━━━━━╇━━━━━━━━━━━━━━━┩\n",
              "│ 95 │ function-num-spaces │ 2      │ 15      │ UNLIMITED │ NONE          │\n",
              "└────┴─────────────────────┴────────┴─────────┴───────────┴───────────────┘\n"
            ],
            "text/html": [
              "<pre style=\"white-space:pre;overflow-x:auto;line-height:normal;font-family:Menlo,'DejaVu Sans Mono',consolas,'Courier New',monospace\">┏━━━━┳━━━━━━━━━━━━━━━━━━━━━┳━━━━━━━━┳━━━━━━━━━┳━━━━━━━━━━━┳━━━━━━━━━━━━━━━┓\n",
              "┃<span style=\"font-weight: bold\"> #  </span>┃<span style=\"font-weight: bold\"> Question            </span>┃<span style=\"font-weight: bold\"> Points </span>┃<span style=\"font-weight: bold\"> Timeout </span>┃<span style=\"font-weight: bold\"> Attempts  </span>┃<span style=\"font-weight: bold\"> Prerequisites </span>┃\n",
              "┡━━━━╇━━━━━━━━━━━━━━━━━━━━━╇━━━━━━━━╇━━━━━━━━━╇━━━━━━━━━━━╇━━━━━━━━━━━━━━━┩\n",
              "│ 95 │ function-num-spaces │ 2      │ 15      │ UNLIMITED │ NONE          │\n",
              "└────┴─────────────────────┴────────┴─────────┴───────────┴───────────────┘\n",
              "</pre>\n"
            ]
          },
          "metadata": {}
        },
        {
          "output_type": "display_data",
          "data": {
            "text/plain": [
              "TEXT:\n",
              "A folder has been extracted to the folder specified in the .file_location attribute. The .file_location attribute \n",
              "is set to your Desktop by default. Follow the instructions in extracted \u001b[32m'README.md'\u001b[0m to develop the solution. Use \n",
              "\u001b[1;35m.solution\u001b[0m\u001b[1m(\u001b[0m\u001b[1m)\u001b[0m to submit your code. The \u001b[1;35m.solution\u001b[0m\u001b[1m(\u001b[0m\u001b[1m)\u001b[0m method will accept an absolute path to a file or a directory as \n",
              "its only argument.\n"
            ],
            "text/html": [
              "<pre style=\"white-space:pre;overflow-x:auto;line-height:normal;font-family:Menlo,'DejaVu Sans Mono',consolas,'Courier New',monospace\">TEXT:\n",
              "A folder has been extracted to the folder specified in the .file_location attribute. The .file_location attribute \n",
              "is set to your Desktop by default. Follow the instructions in extracted <span style=\"color: #008000; text-decoration-color: #008000\">'README.md'</span> to develop the solution. Use \n",
              "<span style=\"color: #800080; text-decoration-color: #800080; font-weight: bold\">.solution</span><span style=\"font-weight: bold\">()</span> to submit your code. The <span style=\"color: #800080; text-decoration-color: #800080; font-weight: bold\">.solution</span><span style=\"font-weight: bold\">()</span> method will accept an absolute path to a file or a directory as \n",
              "its only argument.\n",
              "</pre>\n"
            ]
          },
          "metadata": {}
        }
      ]
    },
    {
      "cell_type": "code",
      "source": [
        "d.data(95)"
      ],
      "metadata": {
        "colab": {
          "base_uri": "https://localhost:8080/",
          "height": 36
        },
        "id": "RKJMFHhBxKgY",
        "outputId": "1108adec-92cf-48af-f205-cea176539cd9"
      },
      "execution_count": 28,
      "outputs": [
        {
          "output_type": "execute_result",
          "data": {
            "text/plain": [
              "'This challenge does not have any data'"
            ],
            "application/vnd.google.colaboratory.intrinsic+json": {
              "type": "string"
            }
          },
          "metadata": {},
          "execution_count": 28
        }
      ]
    },
    {
      "cell_type": "code",
      "execution_count": 26,
      "metadata": {
        "colab": {
          "base_uri": "https://localhost:8080/",
          "height": 128
        },
        "id": "Ea1-WKR1sIkM",
        "outputId": "68b751fd-01bc-432b-9c8e-551a2a3ea719"
      },
      "outputs": [
        {
          "output_type": "display_data",
          "data": {
            "text/plain": [
              "\u001b[3m                                            Scoreboard                                            \u001b[0m\n",
              "┏━━━━━━┳━━━━━━━┳━━━━━━━┳━━━━━━━━━━━━━━━━━┳━━━━━━━━━━━━━━━━━━━━━━━━━━━━━━━━━━━━━━━━━━━━━━━━━━━━━━━┓\n",
              "┃\u001b[1m \u001b[0m\u001b[1mRank\u001b[0m\u001b[1m \u001b[0m┃\u001b[1m \u001b[0m\u001b[1mName \u001b[0m\u001b[1m \u001b[0m┃\u001b[1m \u001b[0m\u001b[1mScore\u001b[0m\u001b[1m \u001b[0m┃\u001b[1m \u001b[0m\u001b[1mLast Scored    \u001b[0m\u001b[1m \u001b[0m┃\u001b[1m \u001b[0m\u001b[1mCompleted                                            \u001b[0m\u001b[1m \u001b[0m┃\n",
              "┡━━━━━━╇━━━━━━━╇━━━━━━━╇━━━━━━━━━━━━━━━━━╇━━━━━━━━━━━━━━━━━━━━━━━━━━━━━━━━━━━━━━━━━━━━━━━━━━━━━━━┩\n",
              "│ 001  │ ErikV │ 079   │ May,24 19:27:13 │ 0,2-5,12-13,15-41,44,46-67,71-73,75-85,87-88,90,92-94 │\n",
              "└──────┴───────┴───────┴─────────────────┴───────────────────────────────────────────────────────┘\n"
            ],
            "text/html": [
              "<pre style=\"white-space:pre;overflow-x:auto;line-height:normal;font-family:Menlo,'DejaVu Sans Mono',consolas,'Courier New',monospace\"><span style=\"font-style: italic\">                                            Scoreboard                                            </span>\n",
              "┏━━━━━━┳━━━━━━━┳━━━━━━━┳━━━━━━━━━━━━━━━━━┳━━━━━━━━━━━━━━━━━━━━━━━━━━━━━━━━━━━━━━━━━━━━━━━━━━━━━━━┓\n",
              "┃<span style=\"font-weight: bold\"> Rank </span>┃<span style=\"font-weight: bold\"> Name  </span>┃<span style=\"font-weight: bold\"> Score </span>┃<span style=\"font-weight: bold\"> Last Scored     </span>┃<span style=\"font-weight: bold\"> Completed                                             </span>┃\n",
              "┡━━━━━━╇━━━━━━━╇━━━━━━━╇━━━━━━━━━━━━━━━━━╇━━━━━━━━━━━━━━━━━━━━━━━━━━━━━━━━━━━━━━━━━━━━━━━━━━━━━━━┩\n",
              "│ 001  │ ErikV │ 079   │ May,24 19:27:13 │ 0,2-5,12-13,15-41,44,46-67,71-73,75-85,87-88,90,92-94 │\n",
              "└──────┴───────┴───────┴─────────────────┴───────────────────────────────────────────────────────┘\n",
              "</pre>\n"
            ]
          },
          "metadata": {}
        }
      ],
      "source": [
        "#Check your score and be sure you finished all of the function labs.\n",
        "d.score()"
      ]
    }
  ],
  "metadata": {
    "colab": {
      "provenance": []
    },
    "kernelspec": {
      "display_name": "Python 3",
      "name": "python3"
    },
    "language_info": {
      "name": "python"
    }
  },
  "nbformat": 4,
  "nbformat_minor": 0
}